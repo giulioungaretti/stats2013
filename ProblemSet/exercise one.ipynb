{
 "metadata": {
  "name": ""
 },
 "nbformat": 3,
 "nbformat_minor": 0,
 "worksheets": [
  {
   "cells": [
    {
     "cell_type": "code",
     "collapsed": false,
     "input": [
      "from matplotlib import rc\n",
      "rc('font',**{'family':'sans-serif','sans-serif':['Helvetica']})\n",
      "\n",
      "size'   : 22}\n",
      "rc('font'.'size':\n",
      "   5 rc('text', usetex=True)\n",
      "    \n",
      "%pylab inline"
     ],
     "language": "python",
     "metadata": {},
     "outputs": [],
     "prompt_number": "*"
    },
    {
     "cell_type": "code",
     "collapsed": false,
     "input": [
      "import sympy as sym\n",
      "from sympy import init_printing\n",
      "init_printing(use_latex=True) \n",
      "from sympy import oo"
     ],
     "language": "python",
     "metadata": {},
     "outputs": [],
     "prompt_number": 13
    },
    {
     "cell_type": "code",
     "collapsed": false,
     "input": [
      "c,t,T,t0  = sym.symbols(['C','t','tau','t_{~0}'])\n",
      "f = sym.Function('f')"
     ],
     "language": "python",
     "metadata": {},
     "outputs": [],
     "prompt_number": 14
    },
    {
     "cell_type": "code",
     "collapsed": false,
     "input": [
      "pdf = c * sym.exp(-(t/T))\n",
      "display(sym.Eq(f(t),pdf))\n",
      "sym.latex(sym.Eq(f(t),pdf))"
     ],
     "language": "python",
     "metadata": {},
     "outputs": [
      {
       "latex": [
        "$$\\operatorname{f}{\\left (t \\right )} = C e^{- \\frac{t}{\\tau}}$$"
       ],
       "metadata": {},
       "output_type": "display_data",
       "png": "[encoded data removed]",
       "text": [
        "          -t\n",
        "          \u2500\u2500\n",
        "          \u03c4 \n",
        "f(t) = C\u22c5\u212f  "
       ]
      },
      {
       "metadata": {},
       "output_type": "pyout",
       "prompt_number": 15,
       "text": [
        "\\operatorname{f}{\\left (t \\right )} = C e^{- \\frac{t}{\\tau}}"
       ]
      }
     ],
     "prompt_number": 15
    },
    {
     "cell_type": "code",
     "collapsed": false,
     "input": [
      "int_pdf = sym.integrate(pdf,(t,t0,oo))\n",
      "display(sym.Eq(sym.Integral(pdf,(t,t0,oo)),int_pdf))\n",
      "sym.latex(sym.Eq(sym.Integral(pdf,(t,t0,oo)),1))"
     ],
     "language": "python",
     "metadata": {},
     "outputs": [
      {
       "latex": [
        "$$\\int_{t_{{~0}}}^{\\infty} C e^{- \\frac{t}{\\tau}}\\, dt = - C \\tau e^{- \\infty \\frac{1}{\\tau}} + C \\tau e^{- \\frac{t_{{~0}}}{\\tau}}$$"
       ],
       "metadata": {},
       "output_type": "display_data",
       "text": [
        "  \u221e                                       \n",
        "  \u2320                                       \n",
        "  \u23ae       -t             -\u221e        -t_{~0}\n",
        "  \u23ae       \u2500\u2500             \u2500\u2500        \u2500\u2500\u2500\u2500\u2500\u2500\u2500\n",
        "  \u23ae       \u03c4              \u03c4            \u03c4   \n",
        "  \u23ae    C\u22c5\u212f   dt = - C\u22c5\u03c4\u22c5\u212f   + C\u22c5\u03c4\u22c5\u212f       \n",
        "  \u2321                                       \n",
        "t_{~0}                                    "
       ]
      },
      {
       "metadata": {},
       "output_type": "pyout",
       "prompt_number": 28,
       "text": [
        "\\int_{t_{{~0}}}^{\\infty} C e^{- \\frac{t}{\\tau}}\\, dt = 1"
       ]
      }
     ],
     "prompt_number": 28
    },
    {
     "cell_type": "code",
     "collapsed": false,
     "input": [
      "int_pdf_ind = sym.integrate((t*pdf),(t,t0,oo))\n",
      "display(int_pdf_ind)\n",
      "int_pdf_ind.simplify()"
     ],
     "language": "python",
     "metadata": {},
     "outputs": [
      {
       "latex": [
        "$$C \\left(- \\tau^{2} e^{- \\infty \\frac{1}{\\tau}} - \\infty \\tau e^{- \\infty \\frac{1}{\\tau}}\\right) - C \\left(- t_{{~0}} \\tau e^{- \\frac{t_{{~0}}}{\\tau}} - \\tau^{2} e^{- \\frac{t_{{~0}}}{\\tau}}\\right)$$"
       ],
       "metadata": {},
       "output_type": "display_data",
       "text": [
        "  \u239b      -\u221e        -\u221e\u239e     \u239b            -t_{~0}       -t_{~0}\u239e\n",
        "  \u239c      \u2500\u2500        \u2500\u2500\u239f     \u239c            \u2500\u2500\u2500\u2500\u2500\u2500\u2500       \u2500\u2500\u2500\u2500\u2500\u2500\u2500\u239f\n",
        "  \u239c   2  \u03c4         \u03c4 \u239f     \u239c               \u03c4       2     \u03c4   \u239f\n",
        "C\u22c5\u239d- \u03c4 \u22c5\u212f   - \u221e\u22c5\u03c4\u22c5\u212f  \u23a0 - C\u22c5\u239d- t_{~0}\u22c5\u03c4\u22c5\u212f        - \u03c4 \u22c5\u212f       \u23a0"
       ]
      },
      {
       "latex": [
        "$$\\bot$$"
       ],
       "metadata": {},
       "output_type": "pyout",
       "png": "[encoded data removed]",
       "prompt_number": 29,
       "text": [
        "nan"
       ]
      }
     ],
     "prompt_number": 29
    },
    {
     "cell_type": "code",
     "collapsed": false,
     "input": [
      "zad =t*sym.exp(-t/T) \n",
      "zad"
     ],
     "language": "python",
     "metadata": {},
     "outputs": [
      {
       "latex": [
        "$$t e^{- \\frac{t}{\\tau}}$$"
       ],
       "metadata": {},
       "output_type": "pyout",
       "png": "[encoded data removed]",
       "prompt_number": 39,
       "text": [
        "   -t\n",
        "   \u2500\u2500\n",
        "   \u03c4 \n",
        "t\u22c5\u212f  "
       ]
      }
     ],
     "prompt_number": 39
    },
    {
     "cell_type": "code",
     "collapsed": false,
     "input": [
      "a = sym.integrate(zad,t)\n",
      "a.simplify()"
     ],
     "language": "python",
     "metadata": {},
     "outputs": [
      {
       "latex": [
        "$$\\tau \\left(- t - \\tau\\right) e^{- \\frac{t}{\\tau}}$$"
       ],
       "metadata": {},
       "output_type": "pyout",
       "png": "[encoded data removed]",
       "prompt_number": 40,
       "text": [
        "            -t\n",
        "            \u2500\u2500\n",
        "            \u03c4 \n",
        "\u03c4\u22c5(-t - \u03c4)\u22c5\u212f  "
       ]
      }
     ],
     "prompt_number": 40
    },
    {
     "cell_type": "code",
     "collapsed": false,
     "input": [
      "norm_pdf = sym.Eq(1,int_pdf)\n",
      "norm_pdf = norm_pdf.subs(c*sym.exp(-oo),0)\n",
      "norm_pdf"
     ],
     "language": "python",
     "metadata": {},
     "outputs": [
      {
       "latex": [
        "$$1 = - C \\tau e^{- \\infty \\frac{1}{\\tau}} + C \\tau e^{- \\frac{t_{{~0}}}{\\tau}}$$"
       ],
       "metadata": {},
       "output_type": "pyout",
       "prompt_number": 18,
       "text": [
        "           -\u221e        -t_{~0}\n",
        "           \u2500\u2500        \u2500\u2500\u2500\u2500\u2500\u2500\u2500\n",
        "           \u03c4            \u03c4   \n",
        "1 = - C\u22c5\u03c4\u22c5\u212f   + C\u22c5\u03c4\u22c5\u212f       "
       ]
      }
     ],
     "prompt_number": 18
    },
    {
     "cell_type": "code",
     "collapsed": false,
     "input": [
      "norm_pdf"
     ],
     "language": "python",
     "metadata": {},
     "outputs": [
      {
       "latex": [
        "$$1 = - C \\tau e^{- \\infty \\frac{1}{\\tau}} + C \\tau e^{- \\frac{t_{{~0}}}{\\tau}}$$"
       ],
       "metadata": {},
       "output_type": "pyout",
       "prompt_number": 19,
       "text": [
        "           -\u221e        -t_{~0}\n",
        "           \u2500\u2500        \u2500\u2500\u2500\u2500\u2500\u2500\u2500\n",
        "           \u03c4            \u03c4   \n",
        "1 = - C\u22c5\u03c4\u22c5\u212f   + C\u22c5\u03c4\u22c5\u212f       "
       ]
      }
     ],
     "prompt_number": 19
    },
    {
     "cell_type": "code",
     "collapsed": false,
     "input": [
      "c_sol = sym.solve(norm_pdf,c)[0]"
     ],
     "language": "python",
     "metadata": {},
     "outputs": [],
     "prompt_number": 9
    },
    {
     "cell_type": "code",
     "collapsed": false,
     "input": [
      "tau = 6\n",
      "to = 6\n",
      "c = exp(to/tau)/tau \n",
      "t = linspace(-10,10)\n",
      "f = exp(to/tau)/tau  * exp(-t/tau)"
     ],
     "language": "python",
     "metadata": {},
     "outputs": [],
     "prompt_number": 10
    },
    {
     "cell_type": "code",
     "collapsed": false,
     "input": [
      "mu  = c  * tau * exp"
     ],
     "language": "python",
     "metadata": {},
     "outputs": [
      {
       "ename": "TypeError",
       "evalue": "unsupported operand type(s) for *: 'float' and 'numpy.ufunc'",
       "output_type": "pyerr",
       "traceback": [
        "\u001b[0;31m---------------------------------------------------------------------------\u001b[0m\n\u001b[0;31mTypeError\u001b[0m                                 Traceback (most recent call last)",
        "\u001b[0;32m<ipython-input-11-a011c092a84a>\u001b[0m in \u001b[0;36m<module>\u001b[0;34m()\u001b[0m\n\u001b[0;32m----> 1\u001b[0;31m \u001b[0mmu\u001b[0m  \u001b[0;34m=\u001b[0m \u001b[0mc\u001b[0m  \u001b[0;34m*\u001b[0m \u001b[0mtau\u001b[0m \u001b[0;34m*\u001b[0m \u001b[0mexp\u001b[0m\u001b[0;34m\u001b[0m\u001b[0m\n\u001b[0m",
        "\u001b[0;31mTypeError\u001b[0m: unsupported operand type(s) for *: 'float' and 'numpy.ufunc'"
       ]
      }
     ],
     "prompt_number": 11
    },
    {
     "cell_type": "code",
     "collapsed": false,
     "input": [
      "plot(t,f)"
     ],
     "language": "python",
     "metadata": {},
     "outputs": []
    },
    {
     "cell_type": "code",
     "collapsed": false,
     "input": [],
     "language": "python",
     "metadata": {},
     "outputs": []
    }
   ],
   "metadata": {}
  }
 ]
}