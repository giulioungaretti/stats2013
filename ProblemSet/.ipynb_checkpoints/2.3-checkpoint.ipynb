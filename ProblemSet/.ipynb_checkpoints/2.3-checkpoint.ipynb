{
 "metadata": {
  "name": ""
 },
 "nbformat": 3,
 "nbformat_minor": 0,
 "worksheets": [
  {
   "cells": [
    {
     "cell_type": "code",
     "collapsed": false,
     "input": [
      "import style"
     ],
     "language": "python",
     "metadata": {},
     "outputs": [],
     "prompt_number": 120
    },
    {
     "cell_type": "heading",
     "level": 1,
     "metadata": {},
     "source": [
      "Snell\u2019s Law errors"
     ]
    },
    {
     "cell_type": "code",
     "collapsed": false,
     "input": [
      "n_air = 1 #.3330\n",
      "theta_air = 25.21  *2 *pi / 360\n",
      "d_theta_air = 0.09 *2 *pi / 360\n",
      "theta_solution = 17.91  *2 *pi / 360\n",
      "d_theta_solution = 0.08 *2 *pi / 360"
     ],
     "language": "python",
     "metadata": {},
     "outputs": [],
     "prompt_number": 109
    },
    {
     "cell_type": "code",
     "collapsed": false,
     "input": [
      "n2 = n_air * sin(theta_air) /sin(theta_solution)"
     ],
     "language": "python",
     "metadata": {},
     "outputs": [],
     "prompt_number": 110
    },
    {
     "cell_type": "code",
     "collapsed": false,
     "input": [
      "d_n2_theta_air = cos(theta_solution)\n",
      "d_n2_theta_sol = 1/ (sin(theta_solution)**2) *cos(theta_solution)"
     ],
     "language": "python",
     "metadata": {},
     "outputs": [],
     "prompt_number": 111
    },
    {
     "cell_type": "code",
     "collapsed": false,
     "input": [
      "d_n2 = n_air*sqrt(d_n2_theta_air**2 *d_theta_air **2 + d_n2_theta_sol**2 *d_theta_solution **2)"
     ],
     "language": "python",
     "metadata": {},
     "outputs": [],
     "prompt_number": 112
    },
    {
     "cell_type": "code",
     "collapsed": false,
     "input": [
      "print 'n2: %.3f \u00b1  %.3f'%(n2,d_n2)"
     ],
     "language": "python",
     "metadata": {},
     "outputs": [
      {
       "output_type": "stream",
       "stream": "stdout",
       "text": [
        "n2: 1.385 \u00b1  0.014\n"
       ]
      }
     ],
     "prompt_number": 121
    },
    {
     "cell_type": "code",
     "collapsed": false,
     "input": [
      "x = linspace(0,76)"
     ],
     "language": "python",
     "metadata": {},
     "outputs": [],
     "prompt_number": 139
    },
    {
     "cell_type": "code",
     "collapsed": false,
     "input": [
      "y0 = 1.3330\n",
      "m = (-1.3330+1.4774)/ (75)\n",
      "dm "
     ],
     "language": "python",
     "metadata": {},
     "outputs": [],
     "prompt_number": 140
    },
    {
     "cell_type": "code",
     "collapsed": false,
     "input": [
      "y = y0 + m * x"
     ],
     "language": "python",
     "metadata": {},
     "outputs": [],
     "prompt_number": 141
    },
    {
     "cell_type": "code",
     "collapsed": false,
     "input": [
      "fig,ax =subplots()\n",
      "ax.plot(x,y,'-o')\n",
      "ax.set_xlabel('% of sugar')\n",
      "ax.set_ylabel('IOR')\n",
      "style.rstyle(ax)"
     ],
     "language": "python",
     "metadata": {},
     "outputs": [
      {
       "metadata": {},
       "output_type": "display_data",
       "png": "[encoded data removed]",
       "text": [
        "<matplotlib.figure.Figure at 0x10659d050>"
       ]
      }
     ],
     "prompt_number": 143
    },
    {
     "cell_type": "code",
     "collapsed": false,
     "input": [],
     "language": "python",
     "metadata": {},
     "outputs": [],
     "prompt_number": 134
    },
    {
     "cell_type": "code",
     "collapsed": false,
     "input": [],
     "language": "python",
     "metadata": {},
     "outputs": []
    }
   ],
   "metadata": {}
  }
 ]
}