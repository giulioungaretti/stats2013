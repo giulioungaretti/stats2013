{
 "metadata": {
  "name": ""
 },
 "nbformat": 3,
 "nbformat_minor": 0,
 "worksheets": [
  {
   "cells": [
    {
     "cell_type": "heading",
     "level": 1,
     "metadata": {},
     "source": [
      "Monte Carlo"
     ]
    },
    {
     "cell_type": "code",
     "collapsed": false,
     "input": [
      "%pylab inline\n",
      "import sympy as sym\n",
      "from sympy import init_printing\n",
      "init_printing(use_latex=True)\n",
      "import style\n",
      "import ROOT as rt\n",
      "matplotlib.rcParams.update({'font.size': 16}) "
     ],
     "language": "python",
     "metadata": {},
     "outputs": [
      {
       "output_type": "stream",
       "stream": "stdout",
       "text": [
        "Populating the interactive namespace from numpy and matplotlib\n"
       ]
      },
      {
       "output_type": "stream",
       "stream": "stderr",
       "text": [
        "WARNING: pylab import has clobbered these variables: ['f', 'size', 'e']\n",
        "`%pylab --no-import-all` prevents importing * from pylab and numpy\n"
       ]
      }
     ],
     "prompt_number": 18
    },
    {
     "cell_type": "code",
     "collapsed": false,
     "input": [
      "from sympy import oo"
     ],
     "language": "python",
     "metadata": {},
     "outputs": [],
     "prompt_number": 19
    },
    {
     "cell_type": "heading",
     "level": 3,
     "metadata": {},
     "source": [
      "Normalize pdf"
     ]
    },
    {
     "cell_type": "code",
     "collapsed": false,
     "input": [
      "f = sym.Function('f')\n",
      "C,x = sym.symbols(['C','x'])\n",
      "pdf = C * x ** (-3)\n",
      "sym.Eq(f(x),pdf) \n",
      "print sym.latex(sym.Eq(f(x),pdf) )"
     ],
     "language": "python",
     "metadata": {},
     "outputs": [
      {
       "output_type": "stream",
       "stream": "stdout",
       "text": [
        "\\operatorname{f}{\\left (x \\right )} = \\frac{C}{x^{3}}\n"
       ]
      }
     ],
     "prompt_number": 20
    },
    {
     "cell_type": "code",
     "collapsed": false,
     "input": [
      "c_val = sym.integrate(pdf, (x,1,oo))"
     ],
     "language": "python",
     "metadata": {},
     "outputs": [],
     "prompt_number": 21
    },
    {
     "cell_type": "code",
     "collapsed": false,
     "input": [
      "sol = sym.solve(c_val - 1, C)"
     ],
     "language": "python",
     "metadata": {},
     "outputs": [],
     "prompt_number": 22
    },
    {
     "cell_type": "code",
     "collapsed": false,
     "input": [
      "display(sym.Eq(C, sol[0]))\n",
      "pdf = pdf.subs(C,sol[0])\n",
      "display(sym.Eq(f(x),pdf) )\n",
      "\n",
      "sym.plot(pdf,(x,.99,10))\n"
     ],
     "language": "python",
     "metadata": {},
     "outputs": [
      {
       "latex": [
        "$$C = 2$$"
       ],
       "metadata": {},
       "output_type": "display_data",
       "png": "[encoded data removed]",
       "text": [
        "C = 2"
       ]
      },
      {
       "latex": [
        "$$\\operatorname{f}{\\left (x \\right )} = \\frac{2}{x^{3}}$$"
       ],
       "metadata": {},
       "output_type": "display_data",
       "png": "[encoded data removed]",
       "text": [
        "       2 \n",
        "f(x) = \u2500\u2500\n",
        "        3\n",
        "       x "
       ]
      },
      {
       "metadata": {},
       "output_type": "display_data",
       "png": "[encoded data removed]",
       "text": [
        "Figure(600x400)"
       ]
      },
      {
       "metadata": {},
       "output_type": "pyout",
       "prompt_number": 23,
       "text": [
        "              Plot object containing:              \n",
        "[0]: cartesian line: 2/x**3 for x over (0.99, 10.0)"
       ]
      }
     ],
     "prompt_number": 23
    },
    {
     "cell_type": "heading",
     "level": 3,
     "metadata": {},
     "source": [
      "The transformation method cfr. G.Cowan chap 3"
     ]
    },
    {
     "cell_type": "markdown",
     "metadata": {},
     "source": [
      "Generate numbers according to this p.d.f.\n",
      "\n",
      "  - generate random set r1, r2, $\\dots$ uniformily distributed in  [0,1)."
     ]
    },
    {
     "cell_type": "code",
     "collapsed": false,
     "input": [
      "size =  1000 # size of the set\n",
      "r_value = np.random.random(size)\n",
      "r_gen = rt.TRandom3()\n",
      "r_value = [r_gen.Uniform() for i in range(size)]"
     ],
     "language": "python",
     "metadata": {},
     "outputs": [],
     "prompt_number": 24
    },
    {
     "cell_type": "markdown",
     "metadata": {},
     "source": [
      " - find a suitable function x(r) which yelds the desired nubmers according the chosen pdf when evaluated with the r values "
     ]
    },
    {
     "cell_type": "code",
     "collapsed": false,
     "input": [
      "xr, r  = sym.symbols(['x(r)','r'])"
     ],
     "language": "python",
     "metadata": {},
     "outputs": [],
     "prompt_number": 25
    },
    {
     "cell_type": "code",
     "collapsed": false,
     "input": [
      "display(sym.Eq(sym.Integral(pdf,(x,1,xr)),r))\n",
      "solution_xr = sym.integrate(pdf,(x,1,xr))\n",
      "display(solution_xr)\n",
      "print sym.latex(sym.Eq(sym.Integral(pdf,(x,-oo,xr)),r))\n",
      "print '--'\n",
      "print sym.latex(solution_xr)"
     ],
     "language": "python",
     "metadata": {},
     "outputs": [
      {
       "latex": [
        "$$\\int_{1}^{x(r)} \\frac{2}{x^{3}}\\, dx = r$$"
       ],
       "metadata": {},
       "output_type": "display_data",
       "png": "[encoded data removed]",
       "text": [
        "x(r)          \n",
        " \u2320            \n",
        " \u23ae   2        \n",
        " \u23ae   \u2500\u2500 dx = r\n",
        " \u23ae    3       \n",
        " \u23ae   x        \n",
        " \u2321            \n",
        " 1            "
       ]
      },
      {
       "latex": [
        "$$1 - \\frac{1}{x(r)^{2}}$$"
       ],
       "metadata": {},
       "output_type": "display_data",
       "png": "[encoded data removed]",
       "text": [
        "      1  \n",
        "1 - \u2500\u2500\u2500\u2500\u2500\n",
        "        2\n",
        "    x(r) "
       ]
      },
      {
       "output_type": "stream",
       "stream": "stdout",
       "text": [
        "\\int_{-\\infty}^{x(r)} \\frac{2}{x^{3}}\\, dx = r\n",
        "--\n",
        "1 - \\frac{1}{x(r)^{2}}\n"
       ]
      }
     ],
     "prompt_number": 26
    },
    {
     "cell_type": "code",
     "collapsed": false,
     "input": [
      "solution_xr_ind = sym.integrate(pdf)"
     ],
     "language": "python",
     "metadata": {},
     "outputs": [],
     "prompt_number": 27
    },
    {
     "cell_type": "code",
     "collapsed": false,
     "input": [
      "sol = sym.solve(solution_xr-r ,xr)\n",
      "display(sol)"
     ],
     "language": "python",
     "metadata": {},
     "outputs": [
      {
       "latex": [
        "$$\\begin{bmatrix}- \\sqrt{- \\frac{1}{r -1}}, & \\sqrt{- \\frac{1}{r -1}}\\end{bmatrix}$$"
       ],
       "metadata": {},
       "output_type": "display_data",
       "text": [
        "\u23a1     _______      _______\u23a4\n",
        "\u23a2    \u2571   -1       \u2571   -1  \u23a5\n",
        "\u23a2-  \u2571  \u2500\u2500\u2500\u2500\u2500 ,   \u2571  \u2500\u2500\u2500\u2500\u2500 \u23a5\n",
        "\u23a3 \u2572\u2571   r - 1   \u2572\u2571   r - 1 \u23a6"
       ]
      }
     ],
     "prompt_number": 28
    },
    {
     "cell_type": "code",
     "collapsed": false,
     "input": [
      "x = sol[1]"
     ],
     "language": "python",
     "metadata": {},
     "outputs": [],
     "prompt_number": 29
    },
    {
     "cell_type": "markdown",
     "metadata": {},
     "source": [
      "Discard solution zero because the original pdf is valid onyl for x> 0.\n",
      "Note r <1."
     ]
    },
    {
     "cell_type": "code",
     "collapsed": false,
     "input": [
      "x_of_r = sym.lambdify(r,x)"
     ],
     "language": "python",
     "metadata": {},
     "outputs": [],
     "prompt_number": 30
    },
    {
     "cell_type": "code",
     "collapsed": false,
     "input": [
      "try:\n",
      "    x_of_r(10) # of corurse will fail as sqrt negative!\n",
      "except ValueError as e:\n",
      "    print e\n",
      "    print '...of corurse will fail as sqrt negative!'"
     ],
     "language": "python",
     "metadata": {},
     "outputs": [
      {
       "output_type": "stream",
       "stream": "stdout",
       "text": [
        "math domain error\n",
        "...of corurse will fail as sqrt negative!\n"
       ]
      }
     ],
     "prompt_number": 31
    },
    {
     "cell_type": "markdown",
     "metadata": {},
     "source": [
      "Calculate the values"
     ]
    },
    {
     "cell_type": "code",
     "collapsed": false,
     "input": [
      "data =array([x_of_r(i) for i in r_value])"
     ],
     "language": "python",
     "metadata": {},
     "outputs": [],
     "prompt_number": 32
    },
    {
     "cell_type": "markdown",
     "metadata": {},
     "source": [
      "Plot results"
     ]
    },
    {
     "cell_type": "code",
     "collapsed": false,
     "input": [
      "fig,ax = subplots(figsize=(8,6))\n",
      "ax.plot(data,'.',alpha=1)\n",
      "ax.set_xlabel('Index')\n",
      "ax.set_ylabel('Value')\n",
      "style.rstyle(ax)\n",
      "fig.savefig('Latex/fig/monteCPDF.pdf')"
     ],
     "language": "python",
     "metadata": {},
     "outputs": [
      {
       "metadata": {},
       "output_type": "display_data",
       "png": "[encoded data removed]",
       "text": [
        "Figure(800x600)"
       ]
      }
     ],
     "prompt_number": 33
    }
   ],
   "metadata": {}
  }
 ]
}