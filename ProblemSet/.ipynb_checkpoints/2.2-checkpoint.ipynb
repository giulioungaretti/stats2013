{
 "metadata": {
  "name": ""
 },
 "nbformat": 3,
 "nbformat_minor": 0,
 "worksheets": [
  {
   "cells": [
    {
     "cell_type": "code",
     "collapsed": false,
     "input": [
      "%pylab inline"
     ],
     "language": "python",
     "metadata": {},
     "outputs": [
      {
       "output_type": "stream",
       "stream": "stdout",
       "text": [
        "Populating the interactive namespace from numpy and matplotlib\n",
        "Object `sympy.interactive.ipythonprinting` not found.\n"
       ]
      }
     ],
     "prompt_number": 92
    },
    {
     "cell_type": "code",
     "collapsed": false,
     "input": [
      "from sympy import init_printing\n",
      "init_printing(use_latex=True)"
     ],
     "language": "python",
     "metadata": {},
     "outputs": [],
     "prompt_number": 95
    },
    {
     "cell_type": "code",
     "collapsed": false,
     "input": [
      "import sympy as sym"
     ],
     "language": "python",
     "metadata": {},
     "outputs": [],
     "prompt_number": 96
    },
    {
     "cell_type": "heading",
     "level": 1,
     "metadata": {},
     "source": [
      "Harrison's Gridiron pendulum"
     ]
    },
    {
     "cell_type": "markdown",
     "metadata": {},
     "source": [
      "$ T = 2 \\pi \\sqrt{\\frac{L}{g}}$"
     ]
    },
    {
     "cell_type": "code",
     "collapsed": false,
     "input": [
      "g = 9.80665\n",
      "sigma_g = 0.00001"
     ],
     "language": "python",
     "metadata": {},
     "outputs": [],
     "prompt_number": 97
    },
    {
     "cell_type": "markdown",
     "metadata": {},
     "source": [
      "Materials details."
     ]
    },
    {
     "cell_type": "code",
     "collapsed": false,
     "input": [
      "a_i = 11.3 * 10 ** (-6)\n",
      "a_b = 18.7* 10 ** (-6)"
     ],
     "language": "python",
     "metadata": {},
     "outputs": [],
     "prompt_number": 98
    },
    {
     "cell_type": "code",
     "collapsed": false,
     "input": [
      "DT = 2.5 * 1000 #mK"
     ],
     "language": "python",
     "metadata": {},
     "outputs": [],
     "prompt_number": 99
    },
    {
     "cell_type": "heading",
     "level": 2,
     "metadata": {},
     "source": [
      "Iron only, with lenght Big L:"
     ]
    },
    {
     "cell_type": "code",
     "collapsed": false,
     "input": [
      "g, sigma_g,sigma_L = sym.symbols(['g','sigma_g','sigma_L'])\n",
      "a_i, a_b, DT = sym.symbols(['a1','a2','DT'])\n",
      "dl,Ll =  sym.symbols(['delta_L','L'])"
     ],
     "language": "python",
     "metadata": {},
     "outputs": [],
     "prompt_number": 116
    },
    {
     "cell_type": "code",
     "collapsed": false,
     "input": [
      "dl = a_i * Ll *DT"
     ],
     "language": "python",
     "metadata": {},
     "outputs": [],
     "prompt_number": 117
    },
    {
     "cell_type": "code",
     "collapsed": false,
     "input": [
      "dT_l =  sym.pi * 1 /sym.sqrt(Ll* g) \n",
      "dT_g = sym.pi * sym.sqrt(Ll) * g ** (- 3./2.)\n",
      "dt = sym.sqrt(dT_l**2 * dl **2 + dT_g**2 *sigma_g**2 )"
     ],
     "language": "python",
     "metadata": {},
     "outputs": [],
     "prompt_number": 118
    },
    {
     "cell_type": "code",
     "collapsed": false,
     "input": [
      "dt.simplify()"
     ],
     "language": "python",
     "metadata": {},
     "outputs": [
      {
       "latex": [
        "$$\\pi \\sqrt{\\frac{L \\left(DT^{2} a_{1}^{2} + \\frac{\\sigma_{g}^{2}}{g^{2.0}}\\right)}{g}}$$"
       ],
       "metadata": {},
       "output_type": "pyout",
       "png": "[encoded data removed]",
       "prompt_number": 119,
       "text": [
        "       ______________________________\n",
        "      \u2571   \u239b  2   2    -2.0        2\u239e \n",
        "     \u2571  L\u22c5\u239dDT \u22c5a\u2081  + g    \u22c5sigma_g \u23a0 \n",
        "\u03c0\u22c5  \u2571   \u2500\u2500\u2500\u2500\u2500\u2500\u2500\u2500\u2500\u2500\u2500\u2500\u2500\u2500\u2500\u2500\u2500\u2500\u2500\u2500\u2500\u2500\u2500\u2500\u2500\u2500\u2500\u2500 \n",
        "  \u2572\u2571                 g               "
       ]
      }
     ],
     "prompt_number": 119
    },
    {
     "cell_type": "code",
     "collapsed": false,
     "input": [
      "print sym.latex(dt.simplify())"
     ],
     "language": "python",
     "metadata": {},
     "outputs": [
      {
       "output_type": "stream",
       "stream": "stdout",
       "text": [
        "\\pi \\sqrt{\\frac{L \\left(DT^{2} a_{1}^{2} + \\frac{\\sigma_{g}^{2}}{g^{2.0}}\\right)}{g}}\n"
       ]
      }
     ],
     "prompt_number": 120
    },
    {
     "cell_type": "heading",
     "level": 2,
     "metadata": {},
     "source": [
      "now consider two componets dl is the sum "
     ]
    },
    {
     "cell_type": "code",
     "collapsed": false,
     "input": [
      "k = sym.symbols('lambda')"
     ],
     "language": "python",
     "metadata": {},
     "outputs": [],
     "prompt_number": 121
    },
    {
     "cell_type": "code",
     "collapsed": false,
     "input": [
      "dl,Ll =  sym.symbols(['delta_L','L'])\n",
      "dl = a_i * Ll *DT -  a_b * k *  Ll *DT  "
     ],
     "language": "python",
     "metadata": {},
     "outputs": [],
     "prompt_number": 129
    },
    {
     "cell_type": "code",
     "collapsed": false,
     "input": [
      "dT_l =  sym.pi * 1 /sym.sqrt(Ll* g) \n",
      "dT_g =  sym.pi * sym.sqrt(Ll) * g ** (- 3./2.)\n",
      "dt = sym.sqrt(dT_l**2 * dl **2 + dT_g**2 *sigma_g**2 )"
     ],
     "language": "python",
     "metadata": {},
     "outputs": [],
     "prompt_number": 132
    },
    {
     "cell_type": "code",
     "collapsed": false,
     "input": [
      "dt.simplify()"
     ],
     "language": "python",
     "metadata": {},
     "outputs": [
      {
       "latex": [
        "$$\\pi \\sqrt{L \\left(\\frac{DT^{2} \\left(a_{1} - a_{2} \\lambda\\right)^{2}}{g} + \\frac{\\sigma_{g}^{2}}{g^{3.0}}\\right)}$$"
       ],
       "metadata": {},
       "output_type": "pyout",
       "png": "[encoded data removed]",
       "prompt_number": 135,
       "text": [
        "       _______________________________________\n",
        "      \u2571   \u239b  2            2                 \u239e \n",
        "     \u2571    \u239cDT \u22c5(a\u2081 - a\u2082\u22c5\u03bb)     -3.0        2\u239f \n",
        "\u03c0\u22c5  \u2571   L\u22c5\u239c\u2500\u2500\u2500\u2500\u2500\u2500\u2500\u2500\u2500\u2500\u2500\u2500\u2500\u2500\u2500\u2500 + g    \u22c5sigma_g \u239f \n",
        "  \u2572\u2571      \u239d       g                         \u23a0 "
       ]
      }
     ],
     "prompt_number": 135
    },
    {
     "cell_type": "code",
     "collapsed": false,
     "input": [
      "print sym.latex(dt.simplify())"
     ],
     "language": "python",
     "metadata": {},
     "outputs": [
      {
       "output_type": "stream",
       "stream": "stdout",
       "text": [
        "\\pi \\sqrt{L \\left(\\frac{DT^{2} \\left(a_{1} - a_{2} \\lambda\\right)^{2}}{g} + \\frac{\\sigma_{g}^{2}}{g^{3.0}}\\right)}\n"
       ]
      }
     ],
     "prompt_number": 136
    }
   ],
   "metadata": {}
  }
 ]
}