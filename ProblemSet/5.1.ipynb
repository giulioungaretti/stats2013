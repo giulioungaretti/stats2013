{
 "metadata": {
  "name": ""
 },
 "nbformat": 3,
 "nbformat_minor": 0,
 "worksheets": [
  {
   "cells": [
    {
     "cell_type": "code",
     "collapsed": false,
     "input": [
      "%pylab inline\n",
      "from style import rstyle \n",
      "matplotlib.rcParams.update({'font.size': 16}) \n",
      "import ROOT as rt\n",
      "import rootnotes\n",
      "rt.gStyle.SetOptStat(1111)\n",
      "rt.gStyle.SetOptFit(1111)"
     ],
     "language": "python",
     "metadata": {},
     "outputs": [
      {
       "output_type": "stream",
       "stream": "stdout",
       "text": [
        "Populating the interactive namespace from numpy and matplotlib\n"
       ]
      }
     ],
     "prompt_number": 2
    },
    {
     "cell_type": "heading",
     "level": 1,
     "metadata": {},
     "source": [
      "Fitting data"
     ]
    },
    {
     "cell_type": "code",
     "collapsed": false,
     "input": [
      "bins = range(-6,6,1)"
     ],
     "language": "python",
     "metadata": {},
     "outputs": [],
     "prompt_number": 3
    },
    {
     "cell_type": "code",
     "collapsed": false,
     "input": [
      "N = array([1,11,43,64,86,115,99,99,76,41,18,1])"
     ],
     "language": "python",
     "metadata": {},
     "outputs": [],
     "prompt_number": 4
    },
    {
     "cell_type": "code",
     "collapsed": false,
     "input": [
      "fig,ax = subplots(figsize=(8,6))\n",
      "ax.bar(bins,N,width=1,color ='#300557')\n",
      "ax.set_ylabel('Count')\n",
      "ax.set_xlabel('Photon coolness factor (blondies per hour)')\n",
      "rstyle(ax)"
     ],
     "language": "python",
     "metadata": {},
     "outputs": [
      {
       "metadata": {},
       "output_type": "display_data",
       "png": "[encoded data removed]",
       "text": [
        "<matplotlib.figure.Figure at 0x2dd5f90>"
       ]
      }
     ],
     "prompt_number": 5
    },
    {
     "cell_type": "markdown",
     "metadata": {},
     "source": [
      "Binned mean:"
     ]
    },
    {
     "cell_type": "code",
     "collapsed": false,
     "input": [
      "[bins[i]+.5 for i in range(0,12)]"
     ],
     "language": "python",
     "metadata": {},
     "outputs": [
      {
       "metadata": {},
       "output_type": "pyout",
       "prompt_number": 16,
       "text": [
        "[-5.5, -4.5, -3.5, -2.5, -1.5, -0.5, 0.5, 1.5, 2.5, 3.5, 4.5, 5.5]"
       ]
      }
     ],
     "prompt_number": 16
    },
    {
     "cell_type": "code",
     "collapsed": false,
     "input": [
      "mu = sum([N[i]*(bins[i]+.5) for i in range(0,12)]) * 1 / sum(N)\n",
      "print  mu "
     ],
     "language": "python",
     "metadata": {},
     "outputs": [
      {
       "output_type": "stream",
       "stream": "stdout",
       "text": [
        "0.100917431193\n"
       ]
      }
     ],
     "prompt_number": 19
    },
    {
     "cell_type": "markdown",
     "metadata": {},
     "source": [
      "Binned error on the mean..."
     ]
    },
    {
     "cell_type": "code",
     "collapsed": false,
     "input": [
      "error_mu = sqrt((1./sum(N) *sum([N[i]*bins[i]**2 for i in range(0,12)])  - (1./sum(N)*sum([N[i]*bins[i] for i in range(0,12)]))**2))\n",
      "error_mu = error_mu/sqrt(sum(N))\n",
      "print error_mu"
     ],
     "language": "python",
     "metadata": {},
     "outputs": [
      {
       "output_type": "stream",
       "stream": "stdout",
       "text": [
        "0.0839565040758\n"
       ]
      }
     ],
     "prompt_number": 20
    },
    {
     "cell_type": "code",
     "collapsed": false,
     "input": [
      "mu - 3 *error_mu"
     ],
     "language": "python",
     "metadata": {},
     "outputs": [
      {
       "metadata": {},
       "output_type": "pyout",
       "prompt_number": 22,
       "text": [
        "-0.15095208103488494"
       ]
      }
     ],
     "prompt_number": 22
    },
    {
     "cell_type": "markdown",
     "metadata": {},
     "source": [
      "Calculate % error:"
     ]
    },
    {
     "cell_type": "code",
     "collapsed": false,
     "input": [
      "(error_mu/mu) * 100"
     ],
     "language": "python",
     "metadata": {},
     "outputs": [
      {
       "metadata": {},
       "output_type": "pyout",
       "prompt_number": 12,
       "text": [
        "-21.037376883373536"
       ]
      }
     ],
     "prompt_number": 12
    },
    {
     "cell_type": "heading",
     "level": 1,
     "metadata": {},
     "source": [
      "Fitting to a gaussian "
     ]
    },
    {
     "cell_type": "markdown",
     "metadata": {},
     "source": [
      "Make histograms (name, title, number of bins, minimum, maximum):"
     ]
    },
    {
     "cell_type": "code",
     "collapsed": false,
     "input": [
      "canvas = rootnotes.default_canvas('canvas')\n",
      "Hist = rt.TH1F('Hist', 'Hist_Sum', 12, -6.0, 6.0)"
     ],
     "language": "python",
     "metadata": {},
     "outputs": [],
     "prompt_number": 13
    },
    {
     "cell_type": "code",
     "collapsed": false,
     "input": [
      "print range(1,13)"
     ],
     "language": "python",
     "metadata": {},
     "outputs": [
      {
       "output_type": "stream",
       "stream": "stdout",
       "text": [
        "[1, 2, 3, 4, 5, 6, 7, 8, 9, 10, 11, 12]\n"
       ]
      }
     ],
     "prompt_number": 14
    },
    {
     "cell_type": "code",
     "collapsed": false,
     "input": [
      "for b,n in zip(range(1,13), N):\n",
      "    Hist.SetBinContent(b,n)"
     ],
     "language": "python",
     "metadata": {},
     "outputs": [],
     "prompt_number": 15
    },
    {
     "cell_type": "code",
     "collapsed": false,
     "input": [
      "Hist.Draw()\n",
      "fit_Sum = rt.TF1(\"fit_Sum\", \"gaus\", -6, 6)\n",
      "fit_Sum.SetLineColor(rt.kRed)               # Set the line color to red.\n",
      "fit_Sum.SetLineWidth(4)  \n",
      "Hist.Fit(\"fit_Sum\",'L')"
     ],
     "language": "python",
     "metadata": {},
     "outputs": [
      {
       "metadata": {},
       "output_type": "pyout",
       "prompt_number": 22,
       "text": [
        "<ROOT.TFitResultPtr object at 0x42e1df0>"
       ]
      }
     ],
     "prompt_number": 22
    },
    {
     "cell_type": "code",
     "collapsed": false,
     "input": [
      "canvas"
     ],
     "language": "python",
     "metadata": {},
     "outputs": [
      {
       "metadata": {},
       "output_type": "pyout",
       "png": "[encoded data removed]",
       "prompt_number": 23,
       "text": [
        "<ROOT.TCanvas object (\"canvas\") at 0x3f24610>"
       ]
      }
     ],
     "prompt_number": 23
    },
    {
     "cell_type": "markdown",
     "metadata": {},
     "source": [
      "Probability sucks! I think the distribution is skwed so I will fit with a skew normal distribution. Assuming a retarded detector that preferers brunettes.\n",
      "\n",
      " - O'Hagan, A. and Leonhard, T. (1976). Bayes estimation subject to uncertainty about parameter constraints. Biometrika, 63, 201-202."
     ]
    },
    {
     "cell_type": "code",
     "collapsed": false,
     "input": [
      "(x[0] - p[0]) / p[1]) * p[3]"
     ],
     "language": "python",
     "metadata": {},
     "outputs": []
    },
    {
     "cell_type": "code",
     "collapsed": false,
     "input": [
      "1/sqrt(2*pi) * exp(- (x - [0]) / [1]) * p[3] **2/2) *(1 + ( TMath::Erf( (x - [0]) / [1]) * [3] /sqrt(2)) )/2 )"
     ],
     "language": "python",
     "metadata": {},
     "outputs": [
      {
       "ename": "SyntaxError",
       "evalue": "invalid syntax (<ipython-input-30-b0afb8231604>, line 1)",
       "output_type": "pyerr",
       "traceback": [
        "\u001b[1;36m  File \u001b[1;32m\"<ipython-input-30-b0afb8231604>\"\u001b[1;36m, line \u001b[1;32m1\u001b[0m\n\u001b[1;33m    1 + ( TMath::Erf(x/sqrt(2)) )/2\u001b[0m\n\u001b[1;37m               ^\u001b[0m\n\u001b[1;31mSyntaxError\u001b[0m\u001b[1;31m:\u001b[0m invalid syntax\n"
       ]
      }
     ],
     "prompt_number": 30
    },
    {
     "cell_type": "code",
     "collapsed": false,
     "input": [
      "def pdf(x):\n",
      "    return 1/sqrt(2*pi) * exp(-x**2/2)\n",
      "\n",
      "def cdf(x):\n",
      "    return (1 + erf(x/sqrt(2))) / 2\n",
      "\n",
      "def skew(x,p):\n",
      "    '''\n",
      "     e=0,w=1,a=0 \n",
      "    '''     \n",
      "    e = p[0]\n",
      "    w = p[1]\n",
      "    a = p[2]\n",
      "    \n",
      "    return 2 / w * pdf(t) * cdf(a*t)"
     ],
     "language": "python",
     "metadata": {},
     "outputs": [],
     "prompt_number": 25
    },
    {
     "cell_type": "code",
     "collapsed": false,
     "input": [
      "fit_skew = rt.TF1(\"fit_skew\", '1/sqrt(2*pi) * exp(- (x - [0]) / [1]) * [3] **2/2) *(1 + (Erf( (x - [0]) / [1]) * [3] /sqrt(2)) )/2 )' , -6, 6, 3)   # Here you need to define number of variables\n",
      "fit_skew.SetParameters(0, 0, 0)           # Remember to give good starting values!\n",
      "fit_skew.SetLineColor(rt.kBlack)\n",
      "Hist.Fit(\"fit_skew\", \"+\")"
     ],
     "language": "python",
     "metadata": {},
     "outputs": [
      {
       "ename": "TypeError",
       "evalue": "none of the 9 overloaded methods succeeded. Full details:\n  TF1::TF1() =>\n    takes at most 0 arguments (5 given)\n  TF1::TF1(const TF1& f1) =>\n    takes at most 1 arguments (5 given)\n  \"1/sqrt(2*pi) * exp(- (x - [0]) / [1]) * [3] **2/2) *(1 + (Erf( (x - [0]) / [1]) * [3] /sqrt(2)) )/2 )\" is not a valid python callable\n  TF1::TF1(const char* name, const char* formula, Double_t xmin = 0, Double_t xmax = 1) =>\n    takes at most 4 arguments (5 given)\n  TF1::TF1(const char* name, Double_t xmin, Double_t xmax, Int_t npar) =>\n    takes at most 4 arguments (5 given)\n  TF1::TF1(const char* name, ROOT::Math::ParamFunctor f, Double_t xmin = 0, Double_t xmax = 1, Int_t npar = 0) =>\n    could not convert argument 2\n  TF1::TF1(const char* name, void* fcn, Double_t xmin, Double_t xmax, Int_t npar) =>\n    could not convert argument 2\n  TF1::TF1(const char* name, void* ptr, Double_t xmin, Double_t xmax, Int_t npar, const char* className) =>\n    takes at least 6 arguments (5 given)\n  TF1::TF1(const char* name, void* ptr, void*, Double_t xmin, Double_t xmax, Int_t npar, const char* className, const char* methodName = 0) =>\n    takes at least 7 arguments (5 given)",
       "output_type": "pyerr",
       "traceback": [
        "\u001b[1;31m---------------------------------------------------------------------------\u001b[0m\n\u001b[1;31mTypeError\u001b[0m                                 Traceback (most recent call last)",
        "\u001b[1;32m<ipython-input-36-e368382327bd>\u001b[0m in \u001b[0;36m<module>\u001b[1;34m()\u001b[0m\n\u001b[1;32m----> 1\u001b[1;33m \u001b[0mfit_skew\u001b[0m \u001b[1;33m=\u001b[0m \u001b[0mrt\u001b[0m\u001b[1;33m.\u001b[0m\u001b[0mTF1\u001b[0m\u001b[1;33m(\u001b[0m\u001b[1;34m\"fit_skew\"\u001b[0m\u001b[1;33m,\u001b[0m \u001b[1;34m'1/sqrt(2*pi) * exp(- (x - [0]) / [1]) * [3] **2/2) *(1 + (Erf( (x - [0]) / [1]) * [3] /sqrt(2)) )/2 )'\u001b[0m \u001b[1;33m,\u001b[0m \u001b[1;33m-\u001b[0m\u001b[1;36m6\u001b[0m\u001b[1;33m,\u001b[0m \u001b[1;36m6\u001b[0m\u001b[1;33m,\u001b[0m \u001b[1;36m3\u001b[0m\u001b[1;33m)\u001b[0m   \u001b[1;31m# Here you need to define number of variables\u001b[0m\u001b[1;33m\u001b[0m\u001b[0m\n\u001b[0m\u001b[0;32m      2\u001b[0m \u001b[0mfit_skew\u001b[0m\u001b[1;33m.\u001b[0m\u001b[0mSetParameters\u001b[0m\u001b[1;33m(\u001b[0m\u001b[1;36m0\u001b[0m\u001b[1;33m,\u001b[0m \u001b[1;36m0\u001b[0m\u001b[1;33m,\u001b[0m \u001b[1;36m0\u001b[0m\u001b[1;33m)\u001b[0m           \u001b[1;31m# Remember to give good starting values!\u001b[0m\u001b[1;33m\u001b[0m\u001b[0m\n\u001b[0;32m      3\u001b[0m \u001b[0mfit_skew\u001b[0m\u001b[1;33m.\u001b[0m\u001b[0mSetLineColor\u001b[0m\u001b[1;33m(\u001b[0m\u001b[0mrt\u001b[0m\u001b[1;33m.\u001b[0m\u001b[0mkBlack\u001b[0m\u001b[1;33m)\u001b[0m\u001b[1;33m\u001b[0m\u001b[0m\n\u001b[0;32m      4\u001b[0m \u001b[0mHist\u001b[0m\u001b[1;33m.\u001b[0m\u001b[0mFit\u001b[0m\u001b[1;33m(\u001b[0m\u001b[1;34m\"fit_skew\"\u001b[0m\u001b[1;33m,\u001b[0m \u001b[1;34m\"+\"\u001b[0m\u001b[1;33m)\u001b[0m\u001b[1;33m\u001b[0m\u001b[0m\n",
        "\u001b[1;31mTypeError\u001b[0m: none of the 9 overloaded methods succeeded. Full details:\n  TF1::TF1() =>\n    takes at most 0 arguments (5 given)\n  TF1::TF1(const TF1& f1) =>\n    takes at most 1 arguments (5 given)\n  \"1/sqrt(2*pi) * exp(- (x - [0]) / [1]) * [3] **2/2) *(1 + (Erf( (x - [0]) / [1]) * [3] /sqrt(2)) )/2 )\" is not a valid python callable\n  TF1::TF1(const char* name, const char* formula, Double_t xmin = 0, Double_t xmax = 1) =>\n    takes at most 4 arguments (5 given)\n  TF1::TF1(const char* name, Double_t xmin, Double_t xmax, Int_t npar) =>\n    takes at most 4 arguments (5 given)\n  TF1::TF1(const char* name, ROOT::Math::ParamFunctor f, Double_t xmin = 0, Double_t xmax = 1, Int_t npar = 0) =>\n    could not convert argument 2\n  TF1::TF1(const char* name, void* fcn, Double_t xmin, Double_t xmax, Int_t npar) =>\n    could not convert argument 2\n  TF1::TF1(const char* name, void* ptr, Double_t xmin, Double_t xmax, Int_t npar, const char* className) =>\n    takes at least 6 arguments (5 given)\n  TF1::TF1(const char* name, void* ptr, void*, Double_t xmin, Double_t xmax, Int_t npar, const char* className, const char* methodName = 0) =>\n    takes at least 7 arguments (5 given)"
       ]
      }
     ],
     "prompt_number": 36
    },
    {
     "cell_type": "code",
     "collapsed": false,
     "input": [],
     "language": "python",
     "metadata": {},
     "outputs": []
    }
   ],
   "metadata": {}
  }
 ]
}