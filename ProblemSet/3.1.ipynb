{
 "metadata": {
  "name": ""
 },
 "nbformat": 3,
 "nbformat_minor": 0,
 "worksheets": [
  {
   "cells": [
    {
     "cell_type": "heading",
     "level": 1,
     "metadata": {},
     "source": [
      "Monte Carlo"
     ]
    },
    {
     "cell_type": "code",
     "collapsed": false,
     "input": [
      "%pylab inline\n",
      "import sympy as sym\n",
      "from sympy import init_printing\n",
      "init_printing(use_latex=True)"
     ],
     "language": "python",
     "metadata": {},
     "outputs": [
      {
       "output_type": "stream",
       "stream": "stdout",
       "text": [
        "Populating the interactive namespace from numpy and matplotlib\n"
       ]
      },
      {
       "output_type": "stream",
       "stream": "stderr",
       "text": [
        "WARNING: pylab import has clobbered these variables: ['f']\n",
        "`%pylab --no-import-all` prevents importing * from pylab and numpy\n"
       ]
      }
     ],
     "prompt_number": 40
    },
    {
     "cell_type": "code",
     "collapsed": false,
     "input": [
      "from sympy import oo"
     ],
     "language": "python",
     "metadata": {},
     "outputs": [],
     "prompt_number": 41
    },
    {
     "cell_type": "heading",
     "level": 3,
     "metadata": {},
     "source": [
      "Normalize pdf"
     ]
    },
    {
     "cell_type": "code",
     "collapsed": false,
     "input": [
      "f = sym.Function('f')\n",
      "C,x = sym.symbols(['C','x'])\n",
      "pdf = C * x ** (-3)\n",
      "sym.Eq(f(x),pdf) "
     ],
     "language": "python",
     "metadata": {},
     "outputs": [
      {
       "latex": [
        "$$\\operatorname{f}{\\left (x \\right )} = \\frac{C}{x^{3}}$$"
       ],
       "metadata": {},
       "output_type": "pyout",
       "png": "[encoded data removed]",
       "prompt_number": 42,
       "text": [
        "       C \n",
        "f(x) = \u2500\u2500\n",
        "        3\n",
        "       x "
       ]
      }
     ],
     "prompt_number": 42
    },
    {
     "cell_type": "code",
     "collapsed": false,
     "input": [
      "c_val = sym.integrate(pdf, (x,1,oo))"
     ],
     "language": "python",
     "metadata": {},
     "outputs": [],
     "prompt_number": 43
    },
    {
     "cell_type": "code",
     "collapsed": false,
     "input": [
      "sol = sym.solve(c_val - 1, C)"
     ],
     "language": "python",
     "metadata": {},
     "outputs": [],
     "prompt_number": 44
    },
    {
     "cell_type": "code",
     "collapsed": false,
     "input": [
      "display(sym.Eq(C, sol[0]))\n",
      "pdf = pdf.subs(C,sol[0])\n",
      "display(sym.Eq(f(x),pdf) )"
     ],
     "language": "python",
     "metadata": {},
     "outputs": [
      {
       "latex": [
        "$$C = 2$$"
       ],
       "metadata": {},
       "output_type": "display_data",
       "png": "[encoded data removed]",
       "text": [
        "C = 2"
       ]
      },
      {
       "latex": [
        "$$\\operatorname{f}{\\left (x \\right )} = \\frac{2}{x^{3}}$$"
       ],
       "metadata": {},
       "output_type": "display_data",
       "png": "[encoded data removed]",
       "text": [
        "       2 \n",
        "f(x) = \u2500\u2500\n",
        "        3\n",
        "       x "
       ]
      }
     ],
     "prompt_number": 57
    },
    {
     "cell_type": "heading",
     "level": 3,
     "metadata": {},
     "source": [
      "The transformation method cfr. G.Cowan chap 3"
     ]
    },
    {
     "cell_type": "markdown",
     "metadata": {},
     "source": [
      "Generate numbers according to this p.d.f.\n",
      "\n",
      "  - generate random set r1, r2, $\\dots$ uniformily distributed in  [0,1)."
     ]
    },
    {
     "cell_type": "code",
     "collapsed": false,
     "input": [
      "size =  1000 # size of the set\n",
      "r = np.random.random(size)"
     ],
     "language": "python",
     "metadata": {},
     "outputs": [],
     "prompt_number": 52
    },
    {
     "cell_type": "markdown",
     "metadata": {},
     "source": [
      " - find a suitable function x(r) which yelds the desired nubmers according the chosen pdf when evaluated with the r values "
     ]
    },
    {
     "cell_type": "code",
     "collapsed": false,
     "input": [
      "xr,r  = sym.symbols(['x(r)','r'])"
     ],
     "language": "python",
     "metadata": {},
     "outputs": [],
     "prompt_number": 74
    },
    {
     "cell_type": "code",
     "collapsed": false,
     "input": [
      "display(sym.Eq(sym.Integral(pdf,(x,-oo,xr)),r))\n",
      "solution_xr = sym.integrate(pdf,(x,-oo,xr))"
     ],
     "language": "python",
     "metadata": {},
     "outputs": [
      {
       "latex": [
        "$$\\int_{-\\infty}^{x(r)} \\frac{2}{x^{3}}\\, dx = r$$"
       ],
       "metadata": {},
       "output_type": "display_data",
       "png": "[encoded data removed]",
       "text": [
        "x(r)          \n",
        " \u2320            \n",
        " \u23ae   2        \n",
        " \u23ae   \u2500\u2500 dx = r\n",
        " \u23ae    3       \n",
        " \u23ae   x        \n",
        " \u2321            \n",
        " -\u221e           "
       ]
      },
      {
       "latex": [
        "$$- \\frac{1}{x^{2}}$$"
       ],
       "metadata": {},
       "output_type": "display_data",
       "png": "[encoded data removed]",
       "text": [
        "-1\n",
        "\u2500\u2500\n",
        " 2\n",
        "x "
       ]
      }
     ],
     "prompt_number": 79
    },
    {
     "cell_type": "code",
     "collapsed": false,
     "input": [
      "sol = sym.solve(solution_xr-r ,xr)\n",
      "display(sol)"
     ],
     "language": "python",
     "metadata": {},
     "outputs": [
      {
       "latex": [
        "$$\\begin{bmatrix}- \\sqrt{- \\frac{1}{r}}, & \\sqrt{- \\frac{1}{r}}\\end{bmatrix}$$"
       ],
       "metadata": {},
       "output_type": "display_data",
       "text": [
        "\u23a1     ____      ____\u23a4\n",
        "\u23a2    \u2571 -1      \u2571 -1 \u23a5\n",
        "\u23a2-  \u2571  \u2500\u2500 ,   \u2571  \u2500\u2500 \u23a5\n",
        "\u23a3 \u2572\u2571   r    \u2572\u2571   r  \u23a6"
       ]
      }
     ],
     "prompt_number": 82
    },
    {
     "cell_type": "code",
     "collapsed": false,
     "input": [
      "x = sol[1]"
     ],
     "language": "python",
     "metadata": {},
     "outputs": [],
     "prompt_number": 83
    },
    {
     "cell_type": "code",
     "collapsed": false,
     "input": [
      "x_of_r = sym.lambdify(r,x)"
     ],
     "language": "python",
     "metadata": {},
     "outputs": [],
     "prompt_number": 86
    },
    {
     "cell_type": "code",
     "collapsed": false,
     "input": [
      "x_of_r(10i)"
     ],
     "language": "python",
     "metadata": {},
     "outputs": [
      {
       "ename": "SyntaxError",
       "evalue": "invalid syntax (<ipython-input-89-98867c6b408d>, line 1)",
       "output_type": "pyerr",
       "traceback": [
        "\u001b[0;36m  File \u001b[0;32m\"<ipython-input-89-98867c6b408d>\"\u001b[0;36m, line \u001b[0;32m1\u001b[0m\n\u001b[0;31m    x_of_r(10i)\u001b[0m\n\u001b[0m             ^\u001b[0m\n\u001b[0;31mSyntaxError\u001b[0m\u001b[0;31m:\u001b[0m invalid syntax\n"
       ]
      }
     ],
     "prompt_number": 89
    },
    {
     "cell_type": "markdown",
     "metadata": {},
     "source": [
      "Discard solution zero because the original pdf is valid onyl for x> 0 "
     ]
    }
   ],
   "metadata": {}
  }
 ]
}