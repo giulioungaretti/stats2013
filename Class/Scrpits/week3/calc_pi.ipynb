{
 "metadata": {
  "name": ""
 },
 "nbformat": 3,
 "nbformat_minor": 0,
 "worksheets": [
  {
   "cells": [
    {
     "cell_type": "markdown",
     "metadata": {
      "slideshow": {
       "slide_type": "slide"
      }
     },
     "source": [
      "# ROOT macro for estimating the value of pi using a Monte Carlo  technique."
     ]
    },
    {
     "cell_type": "markdown",
     "metadata": {
      "slideshow": {
       "slide_type": "subslide"
      }
     },
     "source": [
      "\n",
      "\n",
      "The program picks random points in the area [-1,1] x [-1,1], and \n",
      "determines which\n",
      "fraction of these are within the unit circle. This in turn gives a \n",
      "measure of pi\n",
      "with associated statistical uncertainty. Performing such \n",
      "\"experiments\" many times\n",
      "not only gives the value of pi, but also a feel for the use of Monte \n",
      "Carlo, and\n",
      "experience in calculating averages, RMSs, and the error on these.\n",
      "\n",
      "For more information see:\n",
      "P. R. Bevington: page 75-78\n",
      "\n",
      "Author: Troels C. Petersen (NBI)\n",
      "\n",
      "Email:  petersen@nbi.dk\n",
      "\n",
      "Date:   16th of September 2013"
     ]
    },
    {
     "cell_type": "code",
     "collapsed": false,
     "input": [
      "import ROOT as rt        # Import ROOT libraries (to use ROOT) GOOD PRACTICE\n",
      "from array import array   # Import array for TGraphErrors...\n",
      "import math               # Import MATH libraries (for extended MATH \n",
      "import rootnotes \n",
      "\n",
      "rt.gStyle.SetOptStat(\"emr\")\n",
      "rt.gStyle.SetOptFit(1111)\n",
      "\n",
      "SavePlots = False         # Determining if plots are saved or not\n",
      "\n",
      "r = rt.TRandom3()"
     ],
     "language": "python",
     "metadata": {
      "slideshow": {
       "slide_type": "slide"
      }
     },
     "outputs": [],
     "prompt_number": 1
    },
    {
     "cell_type": "markdown",
     "metadata": {},
     "source": [
      "## Set parameters:"
     ]
    },
    {
     "cell_type": "code",
     "collapsed": false,
     "input": [
      "Nexperiments = 100        # Number of \"experiments\" determining pi\n",
      "Npoints      = 1000       # Number of points per experiment in \n",
      "\n",
      "pi_true = 3.14159265358979323846264338328"
     ],
     "language": "python",
     "metadata": {
      "slideshow": {
       "slide_type": "fragment"
      }
     },
     "outputs": [],
     "prompt_number": 2
    },
    {
     "cell_type": "markdown",
     "metadata": {
      "slideshow": {
       "slide_type": "fragment"
      }
     },
     "source": [
      "# Make histograms:\n"
     ]
    },
    {
     "cell_type": "code",
     "collapsed": false,
     "input": [
      "Hist_PiDist  = rt.TH1F(\"Hist_PiDist\",  \"Hist_PiDist\",   50, 2.9, 3.4)\n",
      "Hist_HitDist = rt.TH2F(\"Hist_HitDist\", \"Hist_HitDist\", 200, -1.0, 1.0, 200, \n",
      "-1.0, 1.0)"
     ],
     "language": "python",
     "metadata": {
      "slideshow": {
       "slide_type": "fragment"
      }
     },
     "outputs": [],
     "prompt_number": 3
    },
    {
     "cell_type": "markdown",
     "metadata": {
      "slideshow": {
       "slide_type": "slide"
      }
     },
     "source": [
      "## Loop over process:"
     ]
    },
    {
     "cell_type": "code",
     "collapsed": false,
     "input": [
      "um1 = 0.0\n",
      "sum2 = 0.0\n",
      "\n",
      "for iexp in range ( Nexperiments ) :\n",
      "    Nhit = 0\n",
      "    for j in range ( Npoints ) :\n",
      "      \n",
      "        # Get two random numbers uniformly distributed in [-1,1]:\n",
      "        x1 = 2.0 * (r.Uniform() - 0.5)\n",
      "        x2 = 2.0 * (r.Uniform() - 0.5)\n",
      "\n",
      "        # Test if (x1,x2) is within unit circle:\n",
      "        if (x1*x1 + x2*x2 < 1.0) : Nhit += 1\n",
      "\n",
      "        # Plot 2D distribution of (x1,x2) for the first experiment:\n",
      "        if (iexp == 0) : Hist_HitDist.Fill(x1,x2)\n",
      "\n",
      "    \n",
      "    # Calculate the fraction of points within the circle and its error:\n",
      "\n",
      "    # From this we can get pi and its error:\n",
      "    pi_estm = 0.0    # Calculate yourself!\n",
      "    pi_error = 0.0   # Calculate yourself!\n",
      "\n",
      "    # Plot these values and calculate mean and RMS:\n",
      "\n",
      "    # Print first couple of pi measurements:\n",
      "    if (iexp < 5) :\n",
      "        print \"  %2d. pi estimate:   %7.4f +- %6.4f\"%(iexp+1, pi_estm, pi_error)"
     ],
     "language": "python",
     "metadata": {
      "slideshow": {
       "slide_type": "fragment"
      }
     },
     "outputs": [
      {
       "output_type": "stream",
       "stream": "stdout",
       "text": [
        "   1. pi estimate:    0.0000 +- 0.0000\n",
        "   2. pi estimate:    0.0000 +- 0.0000\n",
        "   3. pi estimate:    0.0000 +- 0.0000\n",
        "   4. pi estimate:    0.0000 +- 0.0000\n",
        "   5. pi estimate:    0.0000 +- 0.0000\n"
       ]
      }
     ],
     "prompt_number": 4
    },
    {
     "cell_type": "markdown",
     "metadata": {
      "slideshow": {
       "slide_type": "slide"
      }
     },
     "source": [
      "# Plot the histograms:"
     ]
    },
    {
     "cell_type": "code",
     "collapsed": false,
     "input": [
      "canvas1 = rootnotes.default_canvas(\"canvas1\")\n",
      "Hist_HitDist.SetMarkerColor(rt.kRed)\n",
      "Hist_HitDist.SetMarkerStyle(20)\n",
      "Hist_HitDist.SetMarkerSize(0.4)\n",
      "Hist_HitDist.Draw()\n",
      "if (SavePlots) : canvas1.SaveAs(\"HitDist.png\")\n",
      "display(canvas1)"
     ],
     "language": "python",
     "metadata": {
      "slideshow": {
       "slide_type": "-"
      }
     },
     "outputs": [
      {
       "metadata": {},
       "output_type": "display_data",
       "png": "[encoded data removed]",
       "text": [
        "<ROOT.TCanvas object (\"canvas1\") at 0x55e1be0>"
       ]
      }
     ],
     "prompt_number": 5
    }
   ],
   "metadata": {}
  }
 ]
}