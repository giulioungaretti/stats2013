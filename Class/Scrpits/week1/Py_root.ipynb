{
 "metadata": {
  "name": ""
 },
 "nbformat": 3,
 "nbformat_minor": 0,
 "worksheets": [
  {
   "cells": [
    {
     "cell_type": "heading",
     "level": 1,
     "metadata": {
      "slideshow": {
       "slide_type": "slide"
      }
     },
     "source": [
      "Simple python/root notebook to calculate prime numbers"
     ]
    },
    {
     "cell_type": "heading",
     "level": 2,
     "metadata": {},
     "source": [
      "Author: Troels C. Petersen (Niels Bohr Institute)\n"
     ]
    },
    {
     "cell_type": "markdown",
     "metadata": {},
     "source": [
      "Date:   27-06-2013\n",
      "\n",
      "Adapted By Giulio Ungaretti (Niels Bohr Institute/ QDev)\n",
      "\n",
      "Date:   21-08-2013"
     ]
    },
    {
     "cell_type": "heading",
     "level": 3,
     "metadata": {},
     "source": [
      "quirks:"
     ]
    },
    {
     "cell_type": "markdown",
     "metadata": {
      "slideshow": {
       "slide_type": "slide"
      }
     },
     "source": [
      "       from ROOT import *\n",
      "seems not to work.."
     ]
    },
    {
     "cell_type": "code",
     "collapsed": false,
     "input": [
      "from ROOT import TF1, gStyle,TF1,TCanvas,TH1D,kBlue,kRed,kWhite, TLegend,kBlack\n",
      "import rootnotes #reuqired to have display in the notebook\n",
      "import math # ??"
     ],
     "language": "python",
     "metadata": {
      "slideshow": {
       "slide_type": "-"
      }
     },
     "outputs": [],
     "prompt_number": 1
    },
    {
     "cell_type": "markdown",
     "metadata": {},
     "source": [
      "To make it wokr properly in the notebbok one should use instead of the canvass the rootnotes canvas.\n",
      "\n",
      "    canvs = rootnotes.default_canvas()"
     ]
    },
    {
     "cell_type": "code",
     "collapsed": false,
     "input": [
      "Nmax = 10000              # Maximum prime number\n",
      "N    = 2                  # Starting value"
     ],
     "language": "python",
     "metadata": {},
     "outputs": [],
     "prompt_number": 2
    },
    {
     "cell_type": "heading",
     "level": 2,
     "metadata": {},
     "source": [
      "Define a histogram."
     ]
    },
    {
     "cell_type": "markdown",
     "metadata": {
      "slideshow": {
       "slide_type": "slide"
      }
     },
     "source": [
      "In Python one does not need to state the type of anything,\n",
      "so when writing \"hist_prime = ...\" it will simply take on\n",
      "the type of what comes after.\n",
      "TH1D is a ROOT object: They always start with \"T\", and the \"H1\"\n",
      "means 1D histogram, while \"D\" referes to \"double\" (i.e. numbers\n",
      "with digits!)\n",
      "After giving it a name and a title (here the same), one defines\n",
      "the number of bins, and the starting and ending of the range."
     ]
    },
    {
     "cell_type": "code",
     "collapsed": false,
     "input": [
      "# Setting what to be shown in statistics box:\n",
      "gStyle.SetOptStat(\"emr\")\n",
      "gStyle.SetOptFit(1111)\n",
      "\n",
      "#Histogram\n",
      "hist_prime = TH1D(\"hist_prime\", \"Prime number distribution\", 100, 0.0, Nmax)"
     ],
     "language": "python",
     "metadata": {},
     "outputs": [],
     "prompt_number": 3
    },
    {
     "cell_type": "markdown",
     "metadata": {
      "slideshow": {
       "slide_type": "slide"
      }
     },
     "source": [
      "## Calculate prime numbers:\n",
      " Calculating prime numbers comes down to taking a number (here N),\n",
      " and testing if it is prime by dividing it by all numbers up the\n",
      " the square root of it. If no number divides N (tested using the \n",
      " \"%\" operator, which returns the remainder: 6%3 = 0, 5%2 = 1, etc.),\n",
      " then N is prime!\n",
      "\n",
      " See if you can follow this in python program form below. There \n",
      " are only 8 lines in total!\n",
      "\n",
      "\n",
      " While-loop, which loops as long as the statement is true.\n",
      " It is true to begin with (N=2, Nmax = 10000), but at some point\n",
      " N will have increased beyond Nmax, and the looping stops."
     ]
    },
    {
     "cell_type": "code",
     "collapsed": false,
     "input": [
      "while (N < Nmax):\n",
      "    hit = 0                    # Define a variable \"hit\", with starting value 0.\n",
      "\n",
      "    # For-loop, which lets \"i\" have values from 2 to the integer value\n",
      "    # of the square root of N, rounded up (\"int\" rounds down, hence \"+1\").\n",
      "    for i in range (2,int(sqrt(N))+1):\n",
      "\n",
      "        if (N%i == 0):         # If the remainder of the integer division is 0, hit = 1\n",
      "            hit = 1\n",
      "                               # The end of the indention closes the for-loop!\n",
      "\n",
      "    if (hit == 0):             # If no number gave a perfect integer division (i.e. with remainder 0)...\n",
      "        hist_prime.Fill(N)     # the it is a prime number. Fill it into the histogram.\n",
      "    N += 1                     # Increase N by one."
     ],
     "language": "python",
     "metadata": {},
     "outputs": [],
     "prompt_number": 4
    },
    {
     "cell_type": "markdown",
     "metadata": {},
     "source": [
      "Define a \"canvas\", i.e. a new window on the screen.\n",
      "This is again a ROOT thing (adapted to the notebook):\n",
      "    \n",
      "    rootnotes.canvas('name',(tuple for the size (x,y) ))\n",
      "    \n",
      "and you give it name, title, x-position, y-position, x-size and y-size"
     ]
    },
    {
     "cell_type": "code",
     "collapsed": false,
     "input": [
      "canvas = rootnotes.canvas('test',(800,400))"
     ],
     "language": "python",
     "metadata": {},
     "outputs": [],
     "prompt_number": 5
    },
    {
     "cell_type": "code",
     "collapsed": false,
     "input": [
      "hist_prime.GetXaxis().SetRangeUser(0, Nmax)         # From the histogram, we get the x-axis, and set the range.\n",
      "hist_prime.SetMinimum(0)                            # We also set the minimum.\n",
      "hist_prime.GetXaxis().SetTitle(\"Prime number\")      # We give the x-axis a label.\n",
      "hist_prime.GetYaxis().SetTitle(\"Frequency\")         # We give the y-axis a label.\n",
      "hist_prime.SetMarkerColor(kBlack)                    # Set the histogram marker color to blue.\n",
      "hist_prime.SetMarkerStyle(20)   "
     ],
     "language": "python",
     "metadata": {},
     "outputs": [],
     "prompt_number": 6
    },
    {
     "cell_type": "markdown",
     "metadata": {},
     "source": [
      "How could you know that 20 is filled circles? Well, ROOT is well documented and quite used,\n",
      "so if you write \"setmarkerstyle\" in Google, the first hit is: http://root.cern.ch/root/html/TAttMarker.html\n",
      "\n",
      "Here, you can find all the options, details, etc. \n",
      "\n",
      "*unfortunately docstrings are not converted in pyroot, so no magic tab completion,help as in other libraries, see also:*\n",
      "https://github.com/rootpy/rootpy/issues/218 "
     ]
    },
    {
     "cell_type": "markdown",
     "metadata": {
      "slideshow": {
       "slide_type": "subslide"
      }
     },
     "source": [
      "## The Prime Number Theorem "
     ]
    },
    {
     "cell_type": "markdown",
     "metadata": {},
     "source": [
      "The Prime Number Theorem states that the number of prime numbers follows roughly the function  $f(x) = \\frac{1}{ln(x)}.$\n",
      "\n",
      "We have binned our prime numbers (see histogram definition at the top), so we\n",
      " must have a function with a few more degrees of freedom: \n",
      " \n",
      " $f(x) = a + \\frac{b}{ln(x)}$ ,\n",
      " \n",
      " where a and b are constants that needs to be fitted.\n",
      "\n",
      "(http://en.wikipedia.org/wiki/Prime_number_theorem) \n"
     ]
    },
    {
     "cell_type": "markdown",
     "metadata": {
      "slideshow": {
       "slide_type": "slide"
      }
     },
     "source": [
      "###  Fitting\n",
      " We define a function in ROOT as shown below. \"T\" from ROOT and \"F1\" is 1D funtion in ROOT as shown below. \"T\" from ROOT and \"F1\" is 1D function.\n",
      " Again it has a name (chosen to be the same as the function name), and then one has to\n",
      " specify the function expression, where \"[0]\" and \"[1]\" are constants and \"log\" is the\n",
      " natural logarithm (log10 is the base 10 logarithm). Finally, it needs a range, which is [0,N]."
     ]
    },
    {
     "cell_type": "code",
     "collapsed": false,
     "input": [
      "fit_prime = TF1(\"fit_prime\", \"[0] + [1]/log(x)\", 0, N)\n",
      "fit_prime.SetParameters(0.0, 10.0)         # Set the starting values of [0] and [1] to 0 and 10.\n",
      "fit_prime.SetLineColor(kRed)               # Set the line color to red.\n",
      "fit_prime.SetLineWidth(4)                  # Set tne line width to 4."
     ],
     "language": "python",
     "metadata": {},
     "outputs": [],
     "prompt_number": 7
    },
    {
     "cell_type": "markdown",
     "metadata": {},
     "source": [
      "So now we ask that the histogram is fitted by the fitting function.\n",
      "The options \"L\" is for Likelihood fit (ChiSquare is defalt)"
     ]
    },
    {
     "cell_type": "code",
     "collapsed": false,
     "input": [
      "#semicolumn to kill the object return in the notebook\n",
      "hist_prime.Fit(\"fit_prime\", \"L\") ;"
     ],
     "language": "python",
     "metadata": {},
     "outputs": [],
     "prompt_number": 8
    },
    {
     "cell_type": "markdown",
     "metadata": {},
     "source": [
      "Draw the histogram with the option \"e\" for showing the errors in the plot.\n"
     ]
    },
    {
     "cell_type": "code",
     "collapsed": false,
     "input": [
      "#semicolumn to kill the object return in the notebook\n",
      "hist_prime.Draw(\"e\");"
     ],
     "language": "python",
     "metadata": {},
     "outputs": [],
     "prompt_number": 9
    },
    {
     "cell_type": "markdown",
     "metadata": {},
     "source": [
      "Put a legend on the plot:\n",
      "the name is not surprisingly \"TLegend\", and one specifies the four corners.\n",
      "Tab hints at all the possible arguments to the \"TLegend\" but you can't get exactely what they are."
     ]
    },
    {
     "cell_type": "code",
     "collapsed": false,
     "input": [
      "leg = TLegend(0.25, 0.73, 0.60, 0.88 )\n",
      "leg.SetFillColor(kWhite);  # Let the fill color be white\n",
      "leg.SetLineColor(kWhite);  # Let the edge be white (i.e. no edge)\n",
      "leg.AddEntry(hist_prime, \" Prime number distribution\", \"P\")  # Histogram represented by a point \"P\"\n",
      "leg.AddEntry(fit_prime,  \" Prime number fit result\", \"L\")  # Fit function represented by a line \"L\"\n",
      "leg.Draw()  # Draw the legend"
     ],
     "language": "python",
     "metadata": {},
     "outputs": [],
     "prompt_number": 10
    },
    {
     "cell_type": "heading",
     "level": 1,
     "metadata": {},
     "source": [
      " Result"
     ]
    },
    {
     "cell_type": "code",
     "collapsed": false,
     "input": [
      "display(canvas)"
     ],
     "language": "python",
     "metadata": {},
     "outputs": [
      {
       "metadata": {},
       "output_type": "display_data",
       "png": "[encoded data removed]",
       "text": [
        "<ROOT.TCanvas object (\"test\") at 0x468d500>"
       ]
      }
     ],
     "prompt_number": 11
    }
   ],
   "metadata": {}
  }
 ]
}