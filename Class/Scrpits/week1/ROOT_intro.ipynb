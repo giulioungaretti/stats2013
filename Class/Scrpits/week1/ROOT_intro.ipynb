{
 "metadata": {
  "name": ""
 },
 "nbformat": 3,
 "nbformat_minor": 0,
 "worksheets": [
  {
   "cells": [
    {
     "cell_type": "code",
     "collapsed": false,
     "input": [
      "import ROOT as rt\n",
      "import rootnotes"
     ],
     "language": "python",
     "metadata": {},
     "outputs": [],
     "prompt_number": 5
    },
    {
     "cell_type": "code",
     "collapsed": false,
     "input": [
      "from array import array\n",
      "import math\n",
      "\n",
      "rt.gStyle.SetOptStat(\"emr\")\n",
      "rt.gStyle.SetOptFit(1111)\n",
      "\n",
      "r = rt.TRandom3()                        # Random generator\n",
      "\n",
      "SavePlots = False\n",
      "\n",
      "verbose = False\n",
      "Nverbose = 10\n",
      "\n",
      "\n",
      "\n",
      "#----------------------------------------------------------------------------------\n",
      "# Histogram with fit (1D):\n",
      "#----------------------------------------------------------------------------------\n",
      "\n",
      "# Statistics and fitting results replaced in:\n",
      "rt.gStyle.SetStatX(0.92);    # Top right corner.\n",
      "rt.gStyle.SetStatY(0.92);\n",
      "\n",
      "# Define histograms (name, title, number of bins, minimum, maximum):\n",
      "Hist_x = rt.TH1F(\"Hist_x\", \"Hist_x\", 100, -5.0, 5.0)\n",
      "Hist_y = rt.TH1F(\"Hist_y\", \"Hist_y\", 100, -5.0, 5.0)\n",
      "\n",
      "# Loop to get some random values and fill them into histogram:\n",
      "Npoints = 10000                       # Number of random points produced\n",
      "for iexp in range( Npoints ) : \n",
      "    Hist_x.Fill(r.Gaus()*0.8-0.5)\n",
      "    Hist_y.Fill(r.Gaus()*1.3+0.5)\n",
      "\n",
      "# Plot result:\n",
      "# ------------\n",
      "canvas = rootnotes.canvas(name='sfdssfd')\n",
      "#TCanvas( \"canvas\", \"canvas\", 50, 50, 1200, 600 )\n",
      "\n",
      "Hist_x.SetTitle(\"Distribution of Gaussian numbers\")\n",
      "Hist_x.GetXaxis().SetRangeUser(-5.0, 5.0)\n",
      "Hist_x.GetXaxis().SetTitle(\"Random numbers\")\n",
      "Hist_x.GetYaxis().SetTitle(\"Frequency\")\n",
      "Hist_x.SetLineColor(rt.kBlue)\n",
      "Hist_x.SetLineWidth(2)\n",
      "Hist_x.Draw(\"e\")                     # The option \"e\" shows errors (Poisson!)\n",
      "\n",
      "# Fitting histogram (with predefined function):\n",
      "fit_x = rt.TF1(\"fit_x\", \"gaus\", -2.0, 2.0)\n",
      "fit_x.SetLineColor(rt.kBlue-8)\n",
      "fit_x.SetLineWidth(3)\n",
      "Hist_x.Fit(\"fit_x\")\n",
      "\n",
      "# Drawing a second histogram:\n",
      "Hist_y.SetLineColor(rt.kRed)\n",
      "Hist_y.SetLineWidth(2)\n",
      "Hist_y.Draw(\"same\")                  # The option \"same\" makes it plot on top\n",
      "\n",
      "# Example of how to get e.g. means from a histogram and result of fit:\n",
      "print \"Means:   mu_x = %6.3f    mu_y = %6.3f\"%(Hist_x.GetMean(), Hist_y.GetMean())\n",
      "print \"Fitted mean of x:   mu_hat = %6.3f +- %5.3f\"%(fit_x.GetParameter(1), fit_x.GetParError(1))\n",
      "\n",
      "# Legend:\n",
      "leg = rt.TLegend( 0.15, 0.70, 0.38, 0.85 )\n",
      "leg.SetFillColor(rt.kWhite)\n",
      "leg.SetLineColor(rt.kWhite)\n",
      "leg.AddEntry(Hist_x, \" Gaussian (#mu = -0.5)\", \"L\")\n",
      "leg.AddEntry(fit_x, \" Fit with Gaussian to x\", \"L\")\n",
      "leg.AddEntry(Hist_y, \" Gaussian (#mu = +0.5)\", \"L\")\n",
      "leg.Draw()\n",
      "\n",
      "canvas.Update()\n",
      "if (SavePlots):\n",
      "    canvas.SaveAs(\"Histogram.png\")\n",
      "\n",
      "\n",
      "\n",
      "#----------------------------------------------------------------------------------\n",
      "# Graph with fit (1D):\n",
      "#----------------------------------------------------------------------------------\n",
      "\n",
      "# Statistics and fitting results replaced in:\n",
      "rt.gStyle.SetStatX(0.52);    # Top left corner.\n",
      "rt.gStyle.SetStatY(0.86);\n",
      "\n",
      "# Define a graph with errors: (name, title, number of bins, minimum, maximum):\n",
      "# Graphs in ROOT requires arrays, which is why these were included at the top!\n",
      "Ndata = 20\n",
      "x  = array( 'f', [0.0]*Ndata ) \n",
      "y  = array( 'f', [0.0]*Ndata )\n",
      "ex = array( 'f', [0.0]*Ndata )\n",
      "ey = array( 'f', [0.0]*Ndata )\n",
      "\n",
      "# Having defined four arrays filled with zeros, below we fill it with values:\n",
      "for i in range ( Ndata ) :\n",
      "    x[i] = 0.4 + 0.1*i\n",
      "    y[i] = (x[i]-1.0)*(x[i]-1.0) - 2.0 + r.Gaus(0.0, 0.2)    # Adding a Gaussian error of 0.2\n",
      "    ex[i] = 0.0                                              # Not really needed\n",
      "    ey[i] = 0.2                                              # Writing down the error\n",
      "\n",
      "# Define the graph:\n",
      "Graph_x = rt.TGraphErrors(Ndata, x, y, ex, ey)\n",
      "\n",
      "# Plot graph:\n",
      "# -----------\n",
      "canvas2 = rootnotes.canvas(name='grop')\n",
      "#rt.TCanvas( \"canvas2\", \"canvas2\", 100, 100, 1200, 600 )\n",
      "\n",
      "Graph_x.SetTitle(\"Fit of a graph\")\n",
      "Graph_x.GetXaxis().SetRangeUser(-5.0, 5.0)\n",
      "Graph_x.GetXaxis().SetTitle(\"Deciliters of alcohol\")\n",
      "Graph_x.GetYaxis().SetTitle(\"Spirit\")\n",
      "Graph_x.SetMarkerStyle(20)\n",
      "Graph_x.SetLineColor(rt.kBlue)\n",
      "Graph_x.SetLineWidth(1)\n",
      "Graph_x.Draw(\"AP\")                     # The option \"e\" shows (Poisson!) errors\n",
      "\n",
      "# Fit graph:\n",
      "# ----------\n",
      "# There are three ways of fitting!\n",
      "#   1: Predefined function (ROOT has gaus, expo, polX, etc.)\n",
      "#   2: Writing function explicitly (for simple functions)\n",
      "#   3: Defining external function (for advanced functions)\n",
      "\n",
      "# Predefined function:\n",
      "fit_x1 = rt.TF1(\"fit_x1\", \"pol2\", 0.3, 2.4)\n",
      "fit_x1.SetLineColor(rt.kRed)\n",
      "Graph_x.Fit(\"fit_x1\")\n",
      "\n",
      "# Writing function explicitely:\n",
      "fit_x2 = rt.TF1(\"fit_x2\", \"[0] + [1]*x + [2]*x*sqrt(x)\", 0.3, 2.4)\n",
      "fit_x2.SetParameters(-1.0, -1.0, 1.0)           # Remember to give good starting values!\n",
      "fit_x2.SetLineColor(rt.kRed-3)\n",
      "Graph_x.Fit(\"fit_x2\",\"+\")                       # Option \"+\" adds fit (not deleting old one!).\n",
      "\n",
      "# Defining external function:\n",
      "def func_advanced (x, p) :\n",
      "    if (x[0] < 1.25) :\n",
      "        return p[0] + p[1]*x[0] + p[2]*x[0]*x[0]\n",
      "    else :\n",
      "        return p[0] + p[1]*x[0] + 0.9*x[0]*x[0]\n",
      "\n",
      "fit_x3 = rt.TF1(\"fit_x3\", func_advanced, 0.3, 2.4, 3)   # Here you need to define number of variables\n",
      "fit_x3.SetParameters(-1.0, -1.0, 1.0)           # Remember to give good starting values!\n",
      "fit_x3.SetLineColor(rt.kRed+3) \n",
      "Graph_x.Fit(\"fit_x3\", \"+\")\n",
      "\n",
      "canvas2.Update()\n",
      "if (SavePlots):\n",
      "    canvas2.SaveAs(\"Graph.png\")\n"
     ],
     "language": "python",
     "metadata": {},
     "outputs": [
      {
       "output_type": "stream",
       "stream": "stdout",
       "text": [
        "Means:   mu_x = -0.494    mu_y =  0.498\n",
        "Fitted mean of x:   mu_hat = -0.492 +- 0.008\n"
       ]
      },
      {
       "output_type": "stream",
       "stream": "stderr",
       "text": [
        "TROOT::Append:0: RuntimeWarning: Replacing existing TH1: Hist_x (Potential memory leak).\n",
        "TROOT::Append:0: RuntimeWarning: Replacing existing TH1: Hist_y (Potential memory leak).\n"
       ]
      }
     ],
     "prompt_number": 6
    },
    {
     "cell_type": "code",
     "collapsed": false,
     "input": [
      "canvas"
     ],
     "language": "python",
     "metadata": {},
     "outputs": [
      {
       "metadata": {},
       "output_type": "pyout",
       "png": "[encoded data removed]",
       "prompt_number": 7,
       "text": [
        "<ROOT.TCanvas object (\"sfdssfd\") at 0x435a3b0>"
       ]
      }
     ],
     "prompt_number": 7
    },
    {
     "cell_type": "code",
     "collapsed": false,
     "input": [
      "canvas2"
     ],
     "language": "python",
     "metadata": {},
     "outputs": [
      {
       "metadata": {},
       "output_type": "pyout",
       "png": "[encoded data removed]",
       "prompt_number": 8,
       "text": [
        "<ROOT.TCanvas object (\"grop\") at 0x46dbaf0>"
       ]
      }
     ],
     "prompt_number": 8
    },
    {
     "cell_type": "code",
     "collapsed": false,
     "input": [],
     "language": "python",
     "metadata": {},
     "outputs": [],
     "prompt_number": 8
    }
   ],
   "metadata": {}
  }
 ]
}