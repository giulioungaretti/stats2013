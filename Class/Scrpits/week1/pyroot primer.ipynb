{
 "metadata": {
  "name": ""
 },
 "nbformat": 3,
 "nbformat_minor": 0,
 "worksheets": [
  {
   "cells": [
    {
     "cell_type": "markdown",
     "metadata": {},
     "source": [
      "Import required modules"
     ]
    },
    {
     "cell_type": "code",
     "collapsed": false,
     "input": [
      "import math\n",
      "import ROOT "
     ],
     "language": "python",
     "metadata": {},
     "outputs": [],
     "prompt_number": 1
    },
    {
     "cell_type": "code",
     "collapsed": false,
     "input": [
      "# Declare an integer\n",
      "myint = 1\n",
      "\n",
      "# Declare a float\n",
      "myfloat = 1.0"
     ],
     "language": "python",
     "metadata": {},
     "outputs": [],
     "prompt_number": 2
    },
    {
     "cell_type": "code",
     "collapsed": false,
     "input": [
      "mixedlist = [ [\"Max\"  ,  7 ] , # This is a list of lists, each containing a string and an integer \n",
      "              [\"John\" ,  12] , \n",
      "              [\"Nick\" , -3 ] ,\n",
      "              [\"Niels\",  10] ]"
     ],
     "language": "python",
     "metadata": {},
     "outputs": [],
     "prompt_number": 3
    },
    {
     "cell_type": "code",
     "collapsed": false,
     "input": [
      "for ientry in mixedlist : # ientry will now be the ith entry in the mixed list,\n",
      "                          # i.e ientry = \"[\"max\", 7] the first time etc.\n",
      "    print \"Name %s \\t -> \\t Score %3d\"%( ientry[0], ientry[1] )"
     ],
     "language": "python",
     "metadata": {},
     "outputs": [
      {
       "output_type": "stream",
       "stream": "stdout",
       "text": [
        "Name Max \t -> \t Score   7\n",
        "Name John \t -> \t Score  12\n",
        "Name Nick \t -> \t Score  -3\n",
        "Name Niels \t -> \t Score  10\n"
       ]
      }
     ],
     "prompt_number": 4
    },
    {
     "cell_type": "code",
     "collapsed": false,
     "input": [
      "r = ROOT.TRandom3()"
     ],
     "language": "python",
     "metadata": {},
     "outputs": [],
     "prompt_number": 5
    },
    {
     "cell_type": "code",
     "collapsed": false,
     "input": [
      "for i in range( 10 ) : \n",
      "    print \"This is a uniformely generated number\", r.Uniform()   # Calls the uniform function\n",
      "\n",
      "print \"\"fa"
     ],
     "language": "python",
     "metadata": {},
     "outputs": [
      {
       "output_type": "stream",
       "stream": "stdout",
       "text": [
        "This is a uniformely generated number 0.999741748907\n",
        "This is a uniformely generated number 0.162909875391\n",
        "This is a uniformely generated number 0.282617805293\n",
        "This is a uniformely generated number 0.947201082017\n",
        "This is a uniformely generated number 0.231656542746\n",
        "This is a uniformely generated number 0.484973614337\n",
        "This is a uniformely generated number 0.957476956537\n",
        "This is a uniformely generated number 0.744305343134\n",
        "This is a uniformely generated number 0.540043658344\n",
        "This is a uniformely generated number 0.739952981472\n",
        "\n"
       ]
      }
     ],
     "prompt_number": 6
    },
    {
     "cell_type": "code",
     "collapsed": false,
     "input": [],
     "language": "python",
     "metadata": {},
     "outputs": []
    }
   ],
   "metadata": {}
  }
 ]
}