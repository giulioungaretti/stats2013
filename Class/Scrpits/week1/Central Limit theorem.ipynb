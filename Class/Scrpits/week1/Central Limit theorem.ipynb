{
 "metadata": {
  "name": ""
 },
 "nbformat": 3,
 "nbformat_minor": 0,
 "worksheets": [
  {
   "cells": [
    {
     "cell_type": "markdown",
     "metadata": {},
     "source": [
      "# Central limit theorem"
     ]
    },
    {
     "cell_type": "code",
     "collapsed": false,
     "input": [
      "%pylab inline\n",
      "import ROOT as rt\n",
      "import rootnotes"
     ],
     "language": "python",
     "metadata": {},
     "outputs": [
      {
       "output_type": "stream",
       "stream": "stdout",
       "text": [
        "Populating the interactive namespace from numpy and matplotlib\n"
       ]
      }
     ],
     "prompt_number": 1
    },
    {
     "cell_type": "markdown",
     "metadata": {},
     "source": [
      "## Parameters definitions"
     ]
    },
    {
     "cell_type": "code",
     "collapsed": false,
     "input": [
      "r = rt.TRandom3()                        #Random generator\n",
      "Nexperiments = 1000                   # Number of sums produced\n",
      "Nuniform     = 10                     # Number of uniform numbers used in sum\n",
      "Nexponential = 100                      # Number of exponential numbers used in sum\n",
      "Ncauchy      = 100                   # Number of cauchy numbers used in sum\n",
      "\n",
      "pi = 3.14159265358979323846264338328  # Selfexplanatory!!!\n",
      "\n",
      "verbose = True                        # Print some numbers or not?\n",
      "Nverbose = 10                         # If so, how many?\n",
      "\n",
      "SavePlots = True"
     ],
     "language": "python",
     "metadata": {},
     "outputs": [],
     "prompt_number": 2
    },
    {
     "cell_type": "markdown",
     "metadata": {},
     "source": [
      "## Make histograms (name, title, number of bins, minimum, maximum):"
     ]
    },
    {
     "cell_type": "code",
     "collapsed": false,
     "input": [
      "Hist_Sum         = rt.TH1F(\"Hist_Sum\"        , \"Hist_Sum\"        , 120, -6.0, 6.0)\n",
      "Hist_Uniform     = rt.TH1F(\"Hist_Uniform\"    , \"Hist_Uniform\"    , 240, -6.0, 6.0)\n",
      "Hist_Exponential = rt.TH1F(\"Hist_Exponential\", \"Hist_Exponential\", 240, -6.0, 6.0)\n",
      "Hist_Cauchy      = rt.TH1F(\"Hist_Cauchy\"     , \"Hist_Cauchy\"     , 240, -6.0, 6.0)"
     ],
     "language": "python",
     "metadata": {},
     "outputs": [],
     "prompt_number": 3
    },
    {
     "cell_type": "markdown",
     "metadata": {},
     "source": [
      "# Loop over process:"
     ]
    },
    {
     "cell_type": "code",
     "collapsed": false,
     "input": [
      "for iexp in range( Nexperiments ) : \n",
      "\n",
      "    if iexp % 100 == 0 : print \"At iexp : \", iexp\n",
      "\n",
      "    sum = 0.0\n",
      "    \n",
      "    # Generating uniform numbers (with mean 0, and RMS of 1):\n",
      "    for i in range( Nuniform ) : \n",
      "\n",
      "        x = math.sqrt(12.0) * (r.Uniform() - 0.5)        # Uniform between +-sqrt(3)\n",
      "        sum += x\n",
      "        Hist_Uniform.Fill(x)\n",
      "\n",
      "        if verbose and iexp == 0 and i < Nverbose : print \"   Uniform:     %7.4f\"%x\n",
      "\n",
      "\n",
      "    # Generating exponential numbers (with mean 0, and RMS of 1):\n",
      "    for i in range( Nexponential ) : \n",
      "\n",
      "        x = -math.log( r.Uniform() ) - 1.0                # Exponential starting at -1\n",
      "        sum += x\n",
      "        Hist_Exponential.Fill(x)\n",
      "\n",
      "        if verbose and iexp == 0 and i < Nverbose : print \"   Exponential: %7.4f\"%x\n",
      "\n",
      "    # Generating numbers according to a Cauchy distribution (1 / (1 + x^2)):\n",
      "    for i in range( Ncauchy ) : \n",
      "\n",
      "      x = math.tan(pi * (r.Uniform() - 0.5))              # Cauchy with mean 0\n",
      "      sum += x\n",
      "      Hist_Cauchy.Fill(x)\n",
      "\n",
      "      if verbose and iexp == 0 and i < Nverbose : print \"   Cauchy       : %7.4f\"%x\n",
      "\n",
      "    \n",
      "    sum = sum / math.sqrt( Nuniform + Nexponential + Ncauchy )\n",
      "    Hist_Sum.Fill(sum)"
     ],
     "language": "python",
     "metadata": {},
     "outputs": [
      {
       "output_type": "stream",
       "stream": "stdout",
       "text": [
        "At iexp :  0\n",
        "   Uniform:      1.7312\n",
        "   Uniform:     -1.1677\n",
        "   Uniform:     -0.7530\n",
        "   Uniform:      1.5491\n",
        "   Uniform:     -0.9296\n",
        "   Uniform:     -0.0521\n",
        "   Uniform:      1.5847\n",
        "   Uniform:      0.8463\n",
        "   Uniform:      0.1387\n",
        "   Uniform:      0.8312\n",
        "   Exponential: -0.7255\n",
        "   Exponential: -0.5824\n",
        "   Exponential:  0.1532\n",
        "   Exponential: -0.7823\n",
        "   Exponential: -0.3454\n",
        "   Exponential:  0.7804\n",
        "   Exponential: -0.2567\n",
        "   Exponential: -0.0643\n",
        "   Exponential:  0.5066\n",
        "   Exponential:  0.5456\n",
        "   Cauchy       : -2.4027\n",
        "   Cauchy       : -0.6535\n",
        "   Cauchy       : -1.5696\n",
        "   Cauchy       : -2.0871\n",
        "   Cauchy       :  0.5680\n",
        "   Cauchy       :  0.6577\n",
        "   Cauchy       : -1.4615\n",
        "   Cauchy       : -0.2027\n",
        "   Cauchy       :  8.9189\n",
        "   Cauchy       :  2.2748\n",
        "At iexp :  100\n",
        "At iexp : "
       ]
      },
      {
       "output_type": "stream",
       "stream": "stdout",
       "text": [
        " 200\n",
        "At iexp :  300\n",
        "At iexp : "
       ]
      },
      {
       "output_type": "stream",
       "stream": "stdout",
       "text": [
        " 400\n",
        "At iexp :  500\n",
        "At iexp : "
       ]
      },
      {
       "output_type": "stream",
       "stream": "stdout",
       "text": [
        " 600\n",
        "At iexp :  700\n",
        "At iexp : "
       ]
      },
      {
       "output_type": "stream",
       "stream": "stdout",
       "text": [
        " 800\n",
        "At iexp :  900\n"
       ]
      }
     ],
     "prompt_number": 4
    },
    {
     "cell_type": "markdown",
     "metadata": {},
     "source": [
      "# Draw output plots with corresponding fits to the screen:"
     ]
    },
    {
     "cell_type": "markdown",
     "metadata": {},
     "source": [
      "Initalize a notebook special canvas"
     ]
    },
    {
     "cell_type": "code",
     "collapsed": false,
     "input": [
      "canvas = rootnotes.canvas('Histograms',(800,400))"
     ],
     "language": "python",
     "metadata": {},
     "outputs": [],
     "prompt_number": 5
    },
    {
     "cell_type": "code",
     "collapsed": false,
     "input": [
      "Hist_Sum.GetXaxis().SetRangeUser(-7.0, 7.0)       # From the histogram, we get the x-axis, and set the range.\n",
      "Hist_Sum.SetMinimum(0)                            # We also set the minimum.\n",
      "Hist_Sum.GetXaxis().SetTitle(\"Prime number\")      # We give the x-axis a label.\n",
      "Hist_Sum.GetYaxis().SetTitle(\"Frequency\")         # We give the y-axis a label.\n",
      "                  "
     ],
     "language": "python",
     "metadata": {},
     "outputs": [],
     "prompt_number": 6
    },
    {
     "cell_type": "code",
     "collapsed": false,
     "input": [
      "Hist_Sum.SetMarkerColor(rt.kBlue)                    # Set the histogram marker color to blue.\n",
      "Hist_Sum.SetMarkerStyle(20)     # Set the histogram marker style to filled circles."
     ],
     "language": "python",
     "metadata": {},
     "outputs": [],
     "prompt_number": 7
    },
    {
     "cell_type": "markdown",
     "metadata": {},
     "source": [
      "We define a function in ROOT as shown below. \"T\" from ROOT and \"F1\" is 1D function.\n",
      "\n",
      "\n",
      " Again it has a name (chosen to be the same as the function name), and then one has to\n",
      " specify the function expression, where \"[0]\" and \"[1]\" are constants and \"log\" is the\n",
      " natural logarithm (log10 is the base 10 logarithm). \n",
      " \n",
      " Finally, it needs a range, which is [0,N]."
     ]
    },
    {
     "cell_type": "code",
     "collapsed": false,
     "input": [
      "fit_Sum = rt.TF1(\"fit_Sum\", \"gaus\", -5.0, 5.0)\n",
      "fit_Sum.SetParameters(0.0, 10.0)         # Set the starting values of [0] and [1] to 0 and 10.\n",
      "fit_Sum.SetLineColor(rt.kRed)               # Set the line color to red.\n",
      "fit_Sum.SetLineWidth(4)                  # Set tne line width to 4."
     ],
     "language": "python",
     "metadata": {},
     "outputs": [],
     "prompt_number": 8
    },
    {
     "cell_type": "markdown",
     "metadata": {},
     "source": [
      "So now we ask that the histogram is fitted by the fitting function.\n",
      "\n",
      "The options \"L\" is for Likelihood fit (ChiSquare is defalt)"
     ]
    },
    {
     "cell_type": "code",
     "collapsed": false,
     "input": [
      "fit_Sum = Hist_Sum.Fit(\"fit_Sum\", \"L\")"
     ],
     "language": "python",
     "metadata": {},
     "outputs": [],
     "prompt_number": 9
    },
    {
     "cell_type": "markdown",
     "metadata": {},
     "source": [
      "Draw the histogram with the option \"e\" for showing the errors in the plot.\n"
     ]
    },
    {
     "cell_type": "code",
     "collapsed": false,
     "input": [
      "Hist_Sum.Draw(\"e\")"
     ],
     "language": "python",
     "metadata": {},
     "outputs": [],
     "prompt_number": 10
    },
    {
     "cell_type": "markdown",
     "metadata": {},
     "source": [
      "Show the canvas in the notebook"
     ]
    },
    {
     "cell_type": "code",
     "collapsed": false,
     "input": [
      "canvas"
     ],
     "language": "python",
     "metadata": {},
     "outputs": [
      {
       "metadata": {},
       "output_type": "pyout",
       "png": "[encoded data removed]",
       "prompt_number": 11,
       "text": [
        "<ROOT.TCanvas object (\"Histograms\") at 0x4e28200>"
       ]
      }
     ],
     "prompt_number": 11
    },
    {
     "cell_type": "markdown",
     "metadata": {},
     "source": [
      "First acquaint yourself with the program, and make sure that you understand what the\n",
      "Central Limit Theorem states. Do you understand why the uniform distribution needs to\n",
      "go from +-sqrt(3) in order to give a distribution with a width of one (i.e. unit) and\n",
      "why you subtract one from the exponential distribution (and how this works at all)?\n",
      "\n",
      "Then try to see what the result of adding 100 uniform random numbers is? Which\n",
      "distribution does it give (surprice!!!), and how well does it resemble it? Try for\n",
      "example to fit this distribution with a Gaussian (in ROOT, right click on the line\n",
      "of the distribution, and select \"FitPanel\" in which you set the function to be a\n",
      "\"gaus\").\n",
      "\n",
      "\n",
      "Questions:\n",
      "----------\n",
      " 1) Using the sum of 10 uniform random numbers with mean 0 and width 1,\n",
      "    what is the probability of obtaining a number beyond 3 sigma?\n",
      "    What would you expect from a true Gaussian distribution?\n",
      "    And what about the same question for 4 sigma?\n",
      "\n",
      " 2) Why do the Cauchy distribution \"ruin\" the Gaussian distribution?\n",
      "    And is this in conflict with the Central Limit Theorem?\n",
      "\n",
      " 3) If the original distributions which are added into a sum did not have a mean\n",
      "    of zero and unit width, but instead each had a different mean and width, what\n",
      "    would be the result be? Would the Central Limit Theorem still apply? And what\n",
      "    would the width of the resulting distribution be?\n",
      "\n",
      " 4) Which of the three random distributions has a sum, which converges\n",
      "    fastest to a Gaussian?\n",
      "    Which distribution would in general converge fastest?\n",
      "\n",
      "\n",
      "Advanced questions:\n",
      "-------------------\n",
      " 1) If one used a trunkated mean (throwing away the top and bottom 10%),\n",
      "    will the mean of 1000 Cauchy numbers then converge?\n",
      "\n",
      " 2) How few/many uniform random numbers needs to be added, before the probability\n",
      "    for the sum to follow a Gaussian distribution is greater than 1% (on average)\n",
      "    when using 1000 sums (i.e. Nexperiments = 1000)?\n",
      "\n",
      " 3) Try to add a triangular PDF, which a By which method(s) is this possible?"
     ]
    }
   ],
   "metadata": {}
  }
 ]
}