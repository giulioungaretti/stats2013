{
 "metadata": {
  "name": ""
 },
 "nbformat": 3,
 "nbformat_minor": 0,
 "worksheets": [
  {
   "cells": [
    {
     "cell_type": "heading",
     "level": 1,
     "metadata": {},
     "source": [
      "City Population"
     ]
    },
    {
     "cell_type": "markdown",
     "metadata": {},
     "source": [
      " ROOT macro for fitting the number of urban areas with populations above a\n",
      " certain number.\n",
      "\n",
      " The urban areas of the world have almost always grown in size, and while the largest\n",
      " areas (> 3.000.000 inhabitants) are easily identified, it is harder to keep track of\n",
      " the medium size ones (2.000.000 < inhabitants < 3.000.000) and especially of the\n",
      " smaller (1.000.000 < inhabitants < 2.000.000).\n",
      " A way to estimate the number of medium size areas is by extrapolating from the those\n",
      " more populous, which is the goal of this exercise. Given a dataset, which lists the\n",
      " largest urban areas, these are to be fitted in order to give an estimate of the\n",
      " number of medium size urban areas."
     ]
    },
    {
     "cell_type": "markdown",
     "metadata": {},
     "source": [
      "---------------------------------------------------------------------------------- \n",
      "\n",
      "Start by taking a close look at the data, both by inspecting the numbers, and then by\n",
      "considering the histograms produced by running the macro.\n",
      "\n",
      "\n",
      "Questions:\n",
      "----------\n",
      "1) Think about what uncertainties to assign the population number! This is not\n",
      "   easy, as it is NOT an uncertainty on the actual number of citizens, but rather\n",
      "   how much one can expect this to jump around from one to the next. Consider the\n",
      "   data, and then decide on some expression for it.\n",
      "   Once you have put your estimate into the program, try to run the program and\n",
      "   see if your estimate is reasonable. If not, then change it. Eventually, the fit\n",
      "   Chi-square will tell you, if you did OK!\n",
      "\n",
      "2) Define a (better) fitting function, which actually matches the data, and then\n",
      "   make an estimate at how many urban areas in the world with a population above\n",
      "   2.000.000 inhabitants. Remember to assign an uncertainty to your estimate,\n",
      "   also including a basic systematic uncertainty if possible.\n",
      "\n",
      "3) Consider again the data, this time visually. Are there any irregularities, or\n",
      "   other features, which affects the fit quality? Try to change the fitting range,\n",
      "   such that this is avoided. Does this result in a better fit? Would you like to\n",
      "   change your answer from above?\n",
      "\n",
      "4) Once you have an answer, ask your teacher for the true answer (which we have!),\n",
      "   and then consider if you did OK or not.\n",
      "\n",
      "5) Repeat the exercise with DataSet2.txt, which contains further data, and try to\n",
      "   give an estimate of the number of cities above 1.000.000 inhabitants. This time,\n",
      "   we do NOT know the answer! But try to compare with others, who have an estimate.\n",
      "\n",
      "\n",
      "Advanced Questions:\n",
      "-------------------\n",
      "1) The dataset (population and area) is obtained by using many different techniques,\n",
      "   coded by the letters A through H, defined as follows:\n",
      "     A: National census authority data.\n",
      "     B: Demographia land area estimate based upon map or satellite photograph analysis.\n",
      "     C: Demographia population \"build up\" from third, fourth or fifth order jurisdictions.\n",
      "     D: Population estimate based upon United Nations agglomeration estimate.\n",
      "     E: Demographia population estimate from national census authority agglomeration data.\n",
      "     F: Other Demographia population estimate.\n",
      "     G: Estimate based upon projected growth rate from last census.\n",
      "     H: Combination of adjacent national census authority agglomerations.\n",
      "   The most reliable population estimates are \"A\" and \"H.\" Population estimates \"C\" are\n",
      "   generally reliable. Population estimates \"D\" and \"E\" are less reliable. Population\n",
      "   estimates coded \"F\" and \"G\" are the least reliable.\n",
      "\n",
      "   Investigate how much of an effect (and thus systematic error) a variation of the\n",
      "   uncertainties depending on the classification would have on the result both for\n",
      "   determination of the medium size and the smaller urban areas.\n"
     ]
    }
   ],
   "metadata": {}
  }
 ]
}